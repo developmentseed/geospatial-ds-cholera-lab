{
 "cells": [
  {
   "cell_type": "markdown",
   "metadata": {},
   "source": [
    "## The Cholera dataset\n",
    "In this notebook we'll explore cholera outbreak data (2010-2019) for sub-Saharan Africa available [here](https://github.com/HopkinsIDD/cholera_outbreaks_ssa/blob/main/reference_data/outbreak_data.csv). Further metadata about this dataset can be found in the repo's [README.md](https://github.com/HopkinsIDD/cholera_outbreaks_ssa) file. This dataset is sourced from [Zheng et al. (2022)](https://www.sciencedirect.com/science/article/pii/S1201971222003034), but for the purposes of this work, we'll use this dataset purely as a source of outbreak data. "
   ]
  },
  {
   "cell_type": "code",
   "execution_count": null,
   "metadata": {},
   "outputs": [],
   "source": [
    "import geopandas as gpd\n",
    "import holoviews as hv\n",
    "import hvplot.pandas\n",
    "import matplotlib.pyplot as plt\n",
    "import pandas as pd\n",
    "import plotly.express as px\n",
    "\n",
    "hv.extension(\"bokeh\")\n",
    "\n",
    "%output widgets='live' holomap='scrubber'"
   ]
  },
  {
   "cell_type": "code",
   "execution_count": null,
   "metadata": {},
   "outputs": [],
   "source": [
    "cholera_data = pd.read_csv(\"data/outbreak_data.csv\")\n",
    "cholera_data"
   ]
  },
  {
   "cell_type": "markdown",
   "metadata": {},
   "source": [
    "## A quick examination of the dataset\n",
    "\n",
    "Looking at a summary of the dataset, columns, datatypes and missing values. "
   ]
  },
  {
   "cell_type": "code",
   "execution_count": null,
   "metadata": {},
   "outputs": [],
   "source": [
    "cholera_data.columns"
   ]
  },
  {
   "cell_type": "code",
   "execution_count": null,
   "metadata": {},
   "outputs": [],
   "source": [
    "cholera_data.describe()"
   ]
  },
  {
   "cell_type": "code",
   "execution_count": null,
   "metadata": {},
   "outputs": [],
   "source": [
    "cholera_data.dtypes"
   ]
  },
  {
   "cell_type": "code",
   "execution_count": null,
   "metadata": {},
   "outputs": [],
   "source": [
    "cholera_data.isnull().values.any()"
   ]
  },
  {
   "cell_type": "code",
   "execution_count": null,
   "metadata": {},
   "outputs": [],
   "source": [
    "cholera_data.isnull().sum()"
   ]
  },
  {
   "cell_type": "markdown",
   "metadata": {},
   "source": [
    "Above we can see that the majority of all columns do not have missing data, with the exception of `total_deaths`, `cfr` (the case fatality rate of an outbreak) and `total_confirmed_cases.` This makes sense as not all outbreaks will have confirmed deaths, and some suspected outbreaks may not have any confirmed cases. Below, we'll look at these missing values a bit closer. "
   ]
  },
  {
   "cell_type": "code",
   "execution_count": null,
   "metadata": {},
   "outputs": [],
   "source": [
    "cholera_data[cholera_data.isnull().any(1)]"
   ]
  },
  {
   "cell_type": "markdown",
   "metadata": {},
   "source": [
    "## Data cleaning and preparation\n",
    "Some pre-processing of the cholera data, to make it easier to work with other datasets. "
   ]
  },
  {
   "cell_type": "code",
   "execution_count": null,
   "metadata": {},
   "outputs": [],
   "source": [
    "cholera_data = cholera_data.rename(columns={\"country\": \"ISO3\"})"
   ]
  },
  {
   "cell_type": "code",
   "execution_count": null,
   "metadata": {},
   "outputs": [],
   "source": [
    "# to group by year and month, we'll focus on the extract the year value from the 'start_date'\n",
    "cholera_data[\"s_Date\"] = pd.to_datetime(cholera_data[\"start_date\"], format=\"%m/%d/%Y\")\n",
    "cholera_data[\"e_Date\"] = pd.to_datetime(cholera_data[\"end_date\"], format=\"%m/%d/%Y\")\n",
    "cholera_data[\"s_month\"] = cholera_data[\"s_Date\"].dt.month\n",
    "cholera_data[\"s_year\"] = cholera_data[\"s_Date\"].dt.year\n",
    "cholera_data"
   ]
  },
  {
   "cell_type": "code",
   "execution_count": null,
   "metadata": {},
   "outputs": [],
   "source": [
    "cholera_data[\"months_in_duration\"] = cholera_data[\"e_Date\"].dt.to_period(\"M\").astype(\n",
    "    int\n",
    ") - cholera_data[\"s_Date\"].dt.to_period(\"M\").astype(int)\n",
    "cholera_data"
   ]
  },
  {
   "cell_type": "code",
   "execution_count": null,
   "metadata": {},
   "outputs": [],
   "source": [
    "cholera_data.columns"
   ]
  },
  {
   "cell_type": "code",
   "execution_count": null,
   "metadata": {},
   "outputs": [],
   "source": [
    "cholera_data[\"outbreak_number\"].unique()"
   ]
  },
  {
   "cell_type": "markdown",
   "metadata": {},
   "source": [
    "## Exploratory data analysis "
   ]
  },
  {
   "cell_type": "code",
   "execution_count": null,
   "metadata": {},
   "outputs": [],
   "source": [
    "repeated_outbreaks = (\n",
    "    cholera_data.groupby([\"s_year\", \"ISO3\"]).max().loc[:, [\"outbreak_number\"]]\n",
    ")\n",
    "repeated_outbreaks"
   ]
  },
  {
   "cell_type": "code",
   "execution_count": null,
   "metadata": {},
   "outputs": [],
   "source": [
    "repeat_outbreak_bar = repeated_outbreaks.hvplot.bar(\n",
    "    x=\"ISO3\",\n",
    "    y=\"outbreak_number\",\n",
    "    by=\"s_year\",\n",
    "    cmap=\"Category20\",\n",
    "    stacked=True,\n",
    "    legend=\"right\",\n",
    "    width=800,\n",
    "    rot=90,\n",
    ")\n",
    "\n",
    "repeat_outbreak_bar"
   ]
  },
  {
   "cell_type": "code",
   "execution_count": null,
   "metadata": {},
   "outputs": [],
   "source": [
    "overall_trends = (\n",
    "    cholera_data.groupby(\"s_year\")\n",
    "    .sum()\n",
    "    .loc[:, [\"total_suspected_cases\", \"total_confirmed_cases\", \"total_deaths\"]]\n",
    ")\n",
    "overall_trends"
   ]
  },
  {
   "cell_type": "code",
   "execution_count": null,
   "metadata": {},
   "outputs": [],
   "source": [
    "overall_trends.hvplot.line(\n",
    "    x=\"s_year\",\n",
    "    y=[\"total_suspected_cases\", \"total_confirmed_cases\", \"total_deaths\"],\n",
    "    rot=90,\n",
    ")"
   ]
  },
  {
   "cell_type": "markdown",
   "metadata": {},
   "source": [
    "Interestingly, if we zoom into the chart we find that `total_deaths` are sometimes greater than `total_confirmed_cases.` We should keep in mind, that in this line chart everything is aggregated by year (and not by country) so that this may be due to differences in quality of surveillance records across different areas. Regardless, it's something to keep in mind. \n",
    "\n",
    "In either case, we observe 2 distinct peaks of `total_suspected_cases`, one in 2012 and the other in 2016-2017 - the latter supported by an increase in `total_confirmed_cases.`"
   ]
  },
  {
   "cell_type": "markdown",
   "metadata": {},
   "source": [
    "Grouping annual `total_suspected_cases` by country. "
   ]
  },
  {
   "cell_type": "code",
   "execution_count": null,
   "metadata": {},
   "outputs": [],
   "source": [
    "yearly_cases = (\n",
    "    cholera_data.groupby([\"s_year\", \"ISO3\"])\n",
    "    .sum()[\"total_suspected_cases\"]\n",
    "    .reset_index()\n",
    ")\n",
    "yearly_cases"
   ]
  },
  {
   "cell_type": "markdown",
   "metadata": {},
   "source": [
    "Digging deeper into our first bar chart (see above) we will look at how the extent of `total_suspected_cases` is distributed over time and where reoccurrent outbreaks are occuring for consecutive years. "
   ]
  },
  {
   "cell_type": "code",
   "execution_count": null,
   "metadata": {},
   "outputs": [],
   "source": [
    "# using hvplot to create a holoviews plot, but could also use holoviews itself\n",
    "\n",
    "bar_chart = yearly_cases.hvplot.bar(\n",
    "    x=\"ISO3\",\n",
    "    y=\"total_suspected_cases\",\n",
    "    by=\"s_year\",\n",
    "    cmap=\"Category20\",\n",
    "    stacked=True,\n",
    "    legend=\"right\",\n",
    "    width=800,\n",
    "    rot=90,\n",
    ")\n",
    "\n",
    "bar_chart"
   ]
  },
  {
   "cell_type": "markdown",
   "metadata": {},
   "source": [
    "In the stacked bar chart above we above observe that some countries see repeated outbreaks more often than others. Understanding this geographic distribution and if these countries are located nearer to each other will be helpful in understanding outbreak dynamics."
   ]
  },
  {
   "cell_type": "markdown",
   "metadata": {},
   "source": [
    "Which countries are most affected? "
   ]
  },
  {
   "cell_type": "code",
   "execution_count": null,
   "metadata": {},
   "outputs": [],
   "source": [
    "country_agg = (\n",
    "    cholera_data.groupby(\"ISO3\").sum().loc[:, [\"total_suspected_cases\", \"total_deaths\"]]\n",
    ")\n",
    "country_agg = country_agg.sort_values(\"total_suspected_cases\", ascending=False).head(10)\n",
    "\n",
    "country_agg.loc[:, [\"total_deaths\", \"total_suspected_cases\"]].iloc[::-1].hvplot.barh(\n",
    "    colormap=\"coolwarm_r\", stacked=False, legend=\"bottom_right\", height=600\n",
    ")"
   ]
  },
  {
   "cell_type": "markdown",
   "metadata": {},
   "source": [
    "## Giving geographic context\n",
    "\n",
    "Now we'll want to merge the yearly cases against the `admin0` boundaries so that we can map the distribution over time. Because both datasets share the 3-digit `ISO3` country code, we can merge them together on that column. "
   ]
  },
  {
   "cell_type": "markdown",
   "metadata": {},
   "source": [
    "We'll need to add administrative boundaries to provide geospatial context. We'll use the ICPAC Administrative boundaries available [here](https://geoportal.icpac.net/layers/geonode:afr_g2014_2013_0/metadata_detail) and read them in with `geopandas`. This may take a few seconds."
   ]
  },
  {
   "cell_type": "code",
   "execution_count": null,
   "metadata": {},
   "outputs": [],
   "source": [
    "admin0_gdf = gpd.read_file(\n",
    "    \"https://geoportal.icpac.net/geoserver/ows?service=WFS&version=1.0.0&request=GetFeature&typename=geonode%3Aafr_g2014_2013_0&outputFormat=json&srs=EPSG%3A4326&srsName=EPSG%3A4326\"\n",
    ")\n",
    "# admin0_gdf"
   ]
  },
  {
   "cell_type": "code",
   "execution_count": null,
   "metadata": {},
   "outputs": [],
   "source": [
    "# admin1_gdf = gpd.read_file(\"https://geoportal.icpac.net/geoserver/ows?service=WFS&version=1.0.0&request=GetFeature&typename=geonode%3Aafr_g2014_2013_1&outputFormat=json&srs=EPSG%3A4326&srsName=EPSG%3A4326\")\n",
    "# admin1_gdf"
   ]
  },
  {
   "cell_type": "code",
   "execution_count": null,
   "metadata": {},
   "outputs": [],
   "source": [
    "# admin2_gdf = gpd.read_file(\"https://geoportal.icpac.net/geoserver/ows?service=WFS&version=1.0.0&request=GetFeature&typename=geonode%3Aafr_g2014_2013_2&outputFormat=json&srs=EPSG%3A4326&srsName=EPSG%3A4326\")\n",
    "# admin2_gdf"
   ]
  },
  {
   "cell_type": "markdown",
   "metadata": {},
   "source": [
    "Checking the coordinate reference system of the `admin0` administrative boundary dataset. "
   ]
  },
  {
   "cell_type": "code",
   "execution_count": null,
   "metadata": {},
   "outputs": [],
   "source": [
    "admin0_gdf.crs"
   ]
  },
  {
   "cell_type": "code",
   "execution_count": null,
   "metadata": {},
   "outputs": [],
   "source": [
    "merged_df = pd.merge(admin0_gdf, yearly_cases, how=\"inner\", on=\"ISO3\")\n",
    "merged_df"
   ]
  },
  {
   "cell_type": "markdown",
   "metadata": {},
   "source": [
    "As we did an `inner` merge, this will keep only those countries within the `admin0` dataset that _also_ have records in the cholera outbreak dataset. "
   ]
  },
  {
   "cell_type": "markdown",
   "metadata": {},
   "source": [
    "## Mapping Cholera outbreaks from 2010-2019 at the national level\n",
    "\n",
    "Below, we use `plotly` to mapping cholera outbreaks over time. This is two get a better sense, geographically, of where repeated outbreaks are occuring and to visualize any spatial autocorrelation between them (i.e., are nations repeatedly experiencing outbreaks in closer proximity to each other?) "
   ]
  },
  {
   "cell_type": "code",
   "execution_count": null,
   "metadata": {},
   "outputs": [],
   "source": [
    "yearly_snapshot = px.choropleth(\n",
    "    yearly_cases,\n",
    "    locations=\"ISO3\",\n",
    "    color=\"total_suspected_cases\",\n",
    "    hover_name=\"ISO3\",\n",
    "    color_continuous_scale=px.colors.sequential.Plasma,\n",
    "    animation_frame=\"s_year\",\n",
    "    animation_group=\"ISO3\",\n",
    "    range_color=[0, 100000],\n",
    ")\n",
    "\n",
    "yearly_snapshot.update_geos(scope=\"africa\")\n",
    "\n",
    "yearly_snapshot.show()"
   ]
  },
  {
   "cell_type": "markdown",
   "metadata": {},
   "source": [
    "We see a repeated central focal point around the Democratic Republic of the Congo (ISO3:`COD`). This is supported by the earlier bar chart we developed earlier highlighting that COD was the country that experienced the greatest amount of `total_suspected_cases.`"
   ]
  },
  {
   "cell_type": "markdown",
   "metadata": {},
   "source": [
    "## Important considerations\n",
    "Something to keep in mind for your future analyses: This dataset is of outbreaks in sub-Saharan Africa and is not explicitly an `endemic` Cholera dataset. \n",
    "\n",
    "* `Epidemic cholera` is generally sporadic and located further inland\n",
    "* `Endemic cholera` has a reoccuring indicence for consecutive years, often in coastal locations\n",
    "\n",
    "These two are not mutually exclusive, and both can take place in the same area - but for all intents and purposes of this PoC, we'll focus on this as an endemic cholera study (knowing that there will be other dynamics at play inland. \n",
    "\n",
    "Additionally, as the data above is aggregated at the national level, we are not able to make any assumptions about the sub-national geographic distribution of the outbreak (the outbreak could be near a coastline, or further inland). "
   ]
  },
  {
   "attachments": {},
   "cell_type": "markdown",
   "metadata": {},
   "source": [
    "This is why we will want to explore at the subnational levels as well."
   ]
  },
  {
   "attachments": {},
   "cell_type": "markdown",
   "metadata": {},
   "source": [
    "## Data preparation for machine learning purposes"
   ]
  },
  {
   "attachments": {},
   "cell_type": "markdown",
   "metadata": {},
   "source": [
    "In order to explore the relationship between environmental covariates and cholera risk, we will convert cholera outbreaks into a `binary` data format based on the month of the outbreak's `start_date`. A value of `1` inidicates an outbreak in a particular month (_TBD: in x subnational adminstrative unit_) and a value of `0` indicating no outbreak present.  \n",
    "\n",
    "In retrospect, this may not even be required here - as we can more easily implement it as a pre-processing step on the predictor variables using `get_dummies()` just before the `train_test_split()` function. "
   ]
  },
  {
   "cell_type": "code",
   "execution_count": null,
   "metadata": {},
   "outputs": [],
   "source": [
    "one_hot = pd.get_dummies(cholera_data[\"s_month\"], prefix=\"month\")\n",
    "one_hot"
   ]
  },
  {
   "cell_type": "code",
   "execution_count": null,
   "metadata": {},
   "outputs": [],
   "source": [
    "# Join the encoded df\n",
    "cholera_data = cholera_data.join(one_hot)\n",
    "cholera_data"
   ]
  },
  {
   "attachments": {},
   "cell_type": "markdown",
   "metadata": {},
   "source": [
    "On one-hot-encoding: \n",
    "* _Do we want to treat the binary variable as a reflection of when the outbreak started?_\n",
    "* _Or do we want one-hot-encode all months during the duration of the outbreak? In which case we need to revise the code above._"
   ]
  },
  {
   "attachments": {},
   "cell_type": "markdown",
   "metadata": {},
   "source": [
    "With regards to the focus on endemic cholera, do we want to subset the dataset only to those areas within a specified distance (e.g., 100km) from the shore? This will reduce the confounding factors supplied in epidemic cholera further inland. **However**, it will also reduce the dataset we will have available for training and testing. "
   ]
  }
 ],
 "metadata": {
  "kernelspec": {
   "display_name": "Python 3 (ipykernel)",
   "language": "python",
   "name": "python3"
  }
 },
 "nbformat": 4,
 "nbformat_minor": 2
}
