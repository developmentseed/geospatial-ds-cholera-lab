{
 "cells": [
  {
   "cell_type": "markdown",
   "metadata": {},
   "source": [
    "In order to make sure that the zones for our zonal statistics are consistent, we need to first verify that the lat/long coordinates of each of the LST files are identical. If they are different, we will need to re-calculate zones for each monthly LST before then calculating the zonal statistics. "
   ]
  },
  {
   "cell_type": "markdown",
   "metadata": {},
   "source": [
    "In the code below we download 4 LST images for the last 4 months of 2020 (December, November, October, and September). From what we can tell, the footprint for the lat/long coordinates appears exactly identical. "
   ]
  },
  {
   "cell_type": "code",
   "execution_count": null,
   "metadata": {},
   "outputs": [],
   "source": [
    "import typing\n",
    "\n",
    "import geopandas as gpd\n",
    "\n",
    "# rioxarray is not directly referenced, but its `rio` extension of `xarray` is\n",
    "import rioxarray\n",
    "import xarray as xr"
   ]
  },
  {
   "cell_type": "code",
   "execution_count": null,
   "metadata": {},
   "outputs": [],
   "source": [
    "geolocation_gdf = typing.cast(gpd.GeoDataFrame, gpd.read_file(\"geolocations.geojson\"))\n",
    "geolocation_gdf"
   ]
  },
  {
   "cell_type": "code",
   "execution_count": null,
   "metadata": {},
   "outputs": [],
   "source": [
    "def global_lst_url(*, year: int, month: int) -> str:\n",
    "    \"\"\"Return the URL for the global average Land Surface Temperature data file\n",
    "    for a specific year and month.\"\"\"\n",
    "\n",
    "    # Can check status of CEDA core archives at https://stats.uptimerobot.com/vZPgQt7YnO\n",
    "    # Currently `dap` is down.\n",
    "\n",
    "    return (\n",
    "        \"https://dap.ceda.ac.uk/neodc/esacci/land_surface_temperature/data/\"\n",
    "        f\"MULTISENSOR_IRCDR/L3S/0.01/v2.00/monthly/{year}/{month:02d}/\"\n",
    "        f\"ESACCI-LST-L3S-LST-IRCDR_-0.01deg_1MONTHLY_DAY-{year}{month:02d}01000000-fv2.00.nc\"\n",
    "        # Must add `#mode=bytes` to the end.\n",
    "        # See https://github.com/Unidata/netcdf4-python/issues/1043\n",
    "        \"#mode=bytes\"\n",
    "    )\n",
    "\n",
    "\n",
    "def lst(*, year: int, month: int) -> xr.Dataset:\n",
    "    with xr.open_dataset(global_lst_url(year=year, month=month)) as ds:\n",
    "        return typing.cast(xr.Dataset, ds.squeeze(drop=True).rio.write_crs(\"EPSG:4326\"))"
   ]
  },
  {
   "cell_type": "code",
   "execution_count": null,
   "metadata": {},
   "outputs": [],
   "source": [
    "minx, miny, maxx, maxy = geolocation_gdf.total_bounds\n",
    "lon = slice(minx, maxx)\n",
    "lat = slice(miny, maxy)\n",
    "\n",
    "ds1 = lst(year=2009, month=10).sel(lon=lon, lat=lat)\n",
    "ds2 = lst(year=2015, month=6).sel(lon=lon, lat=lat)\n",
    "ds3 = lst(year=2020, month=1).sel(lon=lon, lat=lat)"
   ]
  },
  {
   "cell_type": "code",
   "execution_count": null,
   "metadata": {},
   "outputs": [],
   "source": [
    "print(all(ds1.lon == ds2.lon))\n",
    "print(all(ds1.lat == ds2.lat))\n",
    "print(all(ds2.lon == ds3.lon))\n",
    "print(all(ds2.lat == ds3.lat))"
   ]
  }
 ],
 "metadata": {
  "kernelspec": {
   "display_name": "geo-ds-cholera",
   "language": "python",
   "name": "python3"
  }
 },
 "nbformat": 4,
 "nbformat_minor": 2
}
