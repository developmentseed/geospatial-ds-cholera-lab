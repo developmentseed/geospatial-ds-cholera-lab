{
 "cells": [
  {
   "attachments": {},
   "cell_type": "markdown",
   "metadata": {},
   "source": [
    "# Compute Zonal Means"
   ]
  },
  {
   "cell_type": "code",
   "execution_count": null,
   "metadata": {},
   "outputs": [],
   "source": [
    "import typing\n",
    "\n",
    "import geopandas as gpd\n",
    "import numpy as np\n",
    "import pandas as pd\n",
    "import regionmask\n",
    "\n",
    "# rioxarray is not directly referenced, but its `rio` extension of `xarray` is\n",
    "import rioxarray\n",
    "import xarray as xr\n",
    "import xrspatial.zonal"
   ]
  },
  {
   "attachments": {},
   "cell_type": "markdown",
   "metadata": {},
   "source": [
    "Read our distinct geometries for our outbreak regions (previously computed):\n"
   ]
  },
  {
   "cell_type": "code",
   "execution_count": null,
   "metadata": {},
   "outputs": [],
   "source": [
    "geolocation_gdf = typing.cast(gpd.GeoDataFrame, gpd.read_file(\"geolocations.geojson\"))\n",
    "geolocation_gdf"
   ]
  },
  {
   "attachments": {},
   "cell_type": "markdown",
   "metadata": {},
   "source": [
    "Fetch the URL for the Land Surface Temperature (LST) data for a specific date\n",
    "from the\n",
    "[Centre for Environmental Data Analysis Archive](https://archive.ceda.ac.uk/)\n",
    "(CEDA Archive).\n"
   ]
  },
  {
   "cell_type": "code",
   "execution_count": null,
   "metadata": {},
   "outputs": [],
   "source": [
    "def global_lst_url(*, year: int, month: int) -> str:\n",
    "    \"\"\"Return the URL for the global average Land Surface Temperature data file\n",
    "    for a specific year and month.\"\"\"\n",
    "\n",
    "    # Can check status of CEDA core archives at https://stats.uptimerobot.com/vZPgQt7YnO\n",
    "    # Currently `dap` is down.\n",
    "\n",
    "    return (\n",
    "        \"https://dap.ceda.ac.uk/neodc/esacci/land_surface_temperature/data/\"\n",
    "        f\"MULTISENSOR_IRCDR/L3S/0.01/v2.00/monthly/{year}/{month:02d}/\"\n",
    "        f\"ESACCI-LST-L3S-LST-IRCDR_-0.01deg_1MONTHLY_DAY-{year}{month:02d}01000000-fv2.00.nc\"\n",
    "        # Must add `#mode=bytes` to the end.\n",
    "        # See https://github.com/Unidata/netcdf4-python/issues/1043\n",
    "        \"#mode=bytes\"\n",
    "    )"
   ]
  },
  {
   "attachments": {},
   "cell_type": "markdown",
   "metadata": {},
   "source": [
    "Read land surface temperatures for a specific date using `xarray` and select\n",
    "only values within the bounding box for all of our outbreak regions:\n"
   ]
  },
  {
   "cell_type": "code",
   "execution_count": null,
   "metadata": {},
   "outputs": [],
   "source": [
    "minx, miny, maxx, maxy = geolocation_gdf.total_bounds\n",
    "\n",
    "with xr.open_dataset(global_lst_url(year=2020, month=11)) as ds:\n",
    "    africa_ds = typing.cast(\n",
    "        xr.Dataset,\n",
    "        ds.squeeze(drop=True)\n",
    "        .rio.write_crs(\"EPSG:4326\")\n",
    "        .sel(lon=slice(minx, maxx), lat=slice(miny, maxy)),\n",
    "    )\n",
    "\n",
    "display(africa_ds.rio.crs)\n",
    "display(africa_ds)"
   ]
  },
  {
   "attachments": {},
   "cell_type": "markdown",
   "metadata": {},
   "source": [
    "Extract the `lst` data variable, convert from Kelvin to Celsius, and plot:\n"
   ]
  },
  {
   "cell_type": "code",
   "execution_count": null,
   "metadata": {},
   "outputs": [],
   "source": [
    "africa_lst_celsius_da = typing.cast(xr.DataArray, africa_ds.lst - 273.15)\n",
    "# africa_lst_celsius_da.plot(cmap=\"coolwarm\")\n",
    "africa_lst_celsius_da"
   ]
  },
  {
   "attachments": {},
   "cell_type": "markdown",
   "metadata": {},
   "source": [
    "Compute zones so we can compute zonal statistics:"
   ]
  },
  {
   "cell_type": "code",
   "execution_count": null,
   "metadata": {},
   "outputs": [],
   "source": [
    "zones_da = typing.cast(\n",
    "    xr.DataArray,\n",
    "    regionmask.mask_geopandas(\n",
    "        geolocation_gdf,\n",
    "        africa_ds.lon,\n",
    "        africa_ds.lat,\n",
    "    ),\n",
    ")\n",
    "\n",
    "zones_da"
   ]
  },
  {
   "cell_type": "markdown",
   "metadata": {},
   "source": [
    "Count the number of non-`nan` zones:"
   ]
  },
  {
   "cell_type": "code",
   "execution_count": null,
   "metadata": {},
   "outputs": [],
   "source": [
    "len(np.unique(zones_da.values[~np.isnan(zones_da.values)]))"
   ]
  },
  {
   "attachments": {},
   "cell_type": "markdown",
   "metadata": {},
   "source": [
    "Compute zonal means for LST:\n"
   ]
  },
  {
   "cell_type": "code",
   "execution_count": null,
   "metadata": {},
   "outputs": [],
   "source": [
    "mean_lst_df: pd.DataFrame = (\n",
    "    xrspatial.zonal.stats(zones_da, africa_lst_celsius_da, stats_funcs=[\"mean\"])\n",
    "    .set_index(\"zone\")  # type: ignore\n",
    "    .rename(columns={\"mean\": \"mean_lst\"})  # type: ignore\n",
    ")\n",
    "\n",
    "mean_lst_df"
   ]
  },
  {
   "attachments": {},
   "cell_type": "markdown",
   "metadata": {},
   "source": [
    "Join the means to the geometries and plot the zonal means:"
   ]
  },
  {
   "cell_type": "code",
   "execution_count": null,
   "metadata": {},
   "outputs": [],
   "source": [
    "mean_lst_gdf = geolocation_gdf.join(mean_lst_df, how=\"inner\").dropna()\n",
    "mean_lst_gdf.plot(\"mean_lst\", cmap=\"coolwarm\", legend=True)  # type: ignore\n",
    "mean_lst_gdf"
   ]
  },
  {
   "attachments": {},
   "cell_type": "markdown",
   "metadata": {},
   "source": [
    "Create new dataframe that does not include geometries:"
   ]
  },
  {
   "cell_type": "code",
   "execution_count": null,
   "metadata": {},
   "outputs": [],
   "source": [
    "mean_lst_lct_df = mean_lst_gdf.drop(columns=[\"geometry\"])\n",
    "mean_lst_lct_df"
   ]
  }
 ],
 "metadata": {
  "kernelspec": {
   "display_name": "Python 3 (ipykernel)",
   "language": "python",
   "name": "python3"
  }
 },
 "nbformat": 4,
 "nbformat_minor": 2
}
