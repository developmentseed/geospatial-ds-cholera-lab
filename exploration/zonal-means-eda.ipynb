{
 "cells": [
  {
   "attachments": {},
   "cell_type": "markdown",
   "metadata": {},
   "source": [
    "# Zonal Means EDA"
   ]
  },
  {
   "cell_type": "code",
   "execution_count": null,
   "metadata": {},
   "outputs": [],
   "source": [
    "from datetime import date\n",
    "from importlib import reload\n",
    "\n",
    "from cholera import lst, outbreaks, precip, sm\n",
    "\n",
    "reload(lst)\n",
    "reload(precip)\n",
    "reload(sm)\n",
    "None"
   ]
  },
  {
   "cell_type": "code",
   "execution_count": null,
   "metadata": {},
   "outputs": [],
   "source": [
    "regions = outbreaks.regions()"
   ]
  },
  {
   "cell_type": "code",
   "execution_count": null,
   "metadata": {},
   "outputs": [],
   "source": [
    "lst_means = lst.zonal_means(regions, date(2010, 1, 1))\n",
    "lst_means_gdf = regions.merge(lst_means, on=\"location_period_id\", how=\"inner\")\n",
    "lst_means_gdf"
   ]
  },
  {
   "cell_type": "code",
   "execution_count": null,
   "metadata": {},
   "outputs": [],
   "source": [
    "lst_means_gdf.plot(\"lst\", cmap=\"coolwarm\", legend=True)  # type: ignore"
   ]
  },
  {
   "cell_type": "code",
   "execution_count": null,
   "metadata": {},
   "outputs": [],
   "source": [
    "precip_means = precip.zonal_means(regions, date(2010, 1, 1))\n",
    "precip_means_gdf = regions.merge(precip_means, on=\"location_period_id\", how=\"inner\")\n",
    "precip_means_gdf"
   ]
  },
  {
   "cell_type": "code",
   "execution_count": null,
   "metadata": {},
   "outputs": [],
   "source": [
    "precip_means_gdf.plot(\"precip\", cmap=\"coolwarm\", legend=True)  # type: ignore"
   ]
  },
  {
   "cell_type": "code",
   "execution_count": null,
   "metadata": {},
   "outputs": [],
   "source": [
    "sm_means = sm.zonal_means(regions, date(2010, 1, 1))\n",
    "sm_means_gdf = regions.merge(sm_means, on=\"location_period_id\", how=\"inner\")\n",
    "sm_means_gdf"
   ]
  },
  {
   "cell_type": "code",
   "execution_count": null,
   "metadata": {},
   "outputs": [],
   "source": [
    "sm_means_gdf.plot(\"sm\", cmap=\"coolwarm\", legend=True)  # type: ignore"
   ]
  }
 ],
 "metadata": {
  "kernelspec": {
   "display_name": "Python 3 (ipykernel)",
   "language": "python",
   "name": "python3"
  }
 },
 "nbformat": 4,
 "nbformat_minor": 2
}
