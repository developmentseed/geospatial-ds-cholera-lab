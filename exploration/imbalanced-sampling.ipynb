{
 "cells": [
  {
   "cell_type": "code",
   "execution_count": 2,
   "metadata": {},
   "outputs": [],
   "source": [
    "import imblearn\n",
    "import pandas as pd\n",
    "\n",
    "from imblearn.over_sampling import SMOTE\n",
    "\n",
    "from sklearn.model_selection import train_test_split\n",
    "from sklearn.ensemble import RandomForestClassifier"
   ]
  },
  {
   "cell_type": "code",
   "execution_count": 3,
   "metadata": {},
   "outputs": [
    {
     "data": {
      "text/html": [
       "<div>\n",
       "<style scoped>\n",
       "    .dataframe tbody tr th:only-of-type {\n",
       "        vertical-align: middle;\n",
       "    }\n",
       "\n",
       "    .dataframe tbody tr th {\n",
       "        vertical-align: top;\n",
       "    }\n",
       "\n",
       "    .dataframe thead th {\n",
       "        text-align: right;\n",
       "    }\n",
       "</style>\n",
       "<table border=\"1\" class=\"dataframe\">\n",
       "  <thead>\n",
       "    <tr style=\"text-align: right;\">\n",
       "      <th></th>\n",
       "      <th>location_period_id</th>\n",
       "      <th>year</th>\n",
       "      <th>month</th>\n",
       "      <th>lst_3</th>\n",
       "      <th>lst_2</th>\n",
       "      <th>lst_1</th>\n",
       "      <th>lst_0</th>\n",
       "      <th>precip_3</th>\n",
       "      <th>precip_2</th>\n",
       "      <th>precip_1</th>\n",
       "      <th>precip_0</th>\n",
       "      <th>sm_3</th>\n",
       "      <th>sm_2</th>\n",
       "      <th>sm_1</th>\n",
       "      <th>sm_0</th>\n",
       "      <th>outbreak</th>\n",
       "    </tr>\n",
       "  </thead>\n",
       "  <tbody>\n",
       "    <tr>\n",
       "      <th>0</th>\n",
       "      <td>92</td>\n",
       "      <td>2010</td>\n",
       "      <td>1</td>\n",
       "      <td>32.357544</td>\n",
       "      <td>33.726624</td>\n",
       "      <td>34.437530</td>\n",
       "      <td>35.159393</td>\n",
       "      <td>288.192780</td>\n",
       "      <td>61.916030</td>\n",
       "      <td>2.243044</td>\n",
       "      <td>0.277970</td>\n",
       "      <td>75.846150</td>\n",
       "      <td>55.673077</td>\n",
       "      <td>25.692308</td>\n",
       "      <td>11.038462</td>\n",
       "      <td>0</td>\n",
       "    </tr>\n",
       "    <tr>\n",
       "      <th>1</th>\n",
       "      <td>92</td>\n",
       "      <td>2010</td>\n",
       "      <td>2</td>\n",
       "      <td>33.726624</td>\n",
       "      <td>34.437530</td>\n",
       "      <td>35.159393</td>\n",
       "      <td>37.299316</td>\n",
       "      <td>61.916030</td>\n",
       "      <td>2.243044</td>\n",
       "      <td>0.277970</td>\n",
       "      <td>0.205065</td>\n",
       "      <td>55.673077</td>\n",
       "      <td>25.692308</td>\n",
       "      <td>11.038462</td>\n",
       "      <td>5.673077</td>\n",
       "      <td>0</td>\n",
       "    </tr>\n",
       "    <tr>\n",
       "      <th>2</th>\n",
       "      <td>92</td>\n",
       "      <td>2010</td>\n",
       "      <td>3</td>\n",
       "      <td>34.437530</td>\n",
       "      <td>35.159393</td>\n",
       "      <td>37.299316</td>\n",
       "      <td>37.331665</td>\n",
       "      <td>2.243044</td>\n",
       "      <td>0.277970</td>\n",
       "      <td>0.205065</td>\n",
       "      <td>0.414880</td>\n",
       "      <td>25.692308</td>\n",
       "      <td>11.038462</td>\n",
       "      <td>5.673077</td>\n",
       "      <td>1.826923</td>\n",
       "      <td>0</td>\n",
       "    </tr>\n",
       "    <tr>\n",
       "      <th>3</th>\n",
       "      <td>92</td>\n",
       "      <td>2010</td>\n",
       "      <td>4</td>\n",
       "      <td>35.159393</td>\n",
       "      <td>37.299316</td>\n",
       "      <td>37.331665</td>\n",
       "      <td>39.188446</td>\n",
       "      <td>0.277970</td>\n",
       "      <td>0.205065</td>\n",
       "      <td>0.414880</td>\n",
       "      <td>6.336623</td>\n",
       "      <td>11.038462</td>\n",
       "      <td>5.673077</td>\n",
       "      <td>1.826923</td>\n",
       "      <td>1.634615</td>\n",
       "      <td>0</td>\n",
       "    </tr>\n",
       "    <tr>\n",
       "      <th>4</th>\n",
       "      <td>92</td>\n",
       "      <td>2010</td>\n",
       "      <td>5</td>\n",
       "      <td>37.299316</td>\n",
       "      <td>37.331665</td>\n",
       "      <td>39.188446</td>\n",
       "      <td>38.275238</td>\n",
       "      <td>0.205065</td>\n",
       "      <td>0.414880</td>\n",
       "      <td>6.336623</td>\n",
       "      <td>106.946400</td>\n",
       "      <td>5.673077</td>\n",
       "      <td>1.826923</td>\n",
       "      <td>1.634615</td>\n",
       "      <td>23.211538</td>\n",
       "      <td>0</td>\n",
       "    </tr>\n",
       "    <tr>\n",
       "      <th>...</th>\n",
       "      <td>...</td>\n",
       "      <td>...</td>\n",
       "      <td>...</td>\n",
       "      <td>...</td>\n",
       "      <td>...</td>\n",
       "      <td>...</td>\n",
       "      <td>...</td>\n",
       "      <td>...</td>\n",
       "      <td>...</td>\n",
       "      <td>...</td>\n",
       "      <td>...</td>\n",
       "      <td>...</td>\n",
       "      <td>...</td>\n",
       "      <td>...</td>\n",
       "      <td>...</td>\n",
       "      <td>...</td>\n",
       "    </tr>\n",
       "    <tr>\n",
       "      <th>57634</th>\n",
       "      <td>16697</td>\n",
       "      <td>2019</td>\n",
       "      <td>8</td>\n",
       "      <td>39.427277</td>\n",
       "      <td>41.711395</td>\n",
       "      <td>29.873108</td>\n",
       "      <td>28.330505</td>\n",
       "      <td>146.727780</td>\n",
       "      <td>308.896500</td>\n",
       "      <td>312.504060</td>\n",
       "      <td>310.206630</td>\n",
       "      <td>63.965520</td>\n",
       "      <td>90.206894</td>\n",
       "      <td>89.000000</td>\n",
       "      <td>85.183910</td>\n",
       "      <td>0</td>\n",
       "    </tr>\n",
       "    <tr>\n",
       "      <th>57635</th>\n",
       "      <td>16697</td>\n",
       "      <td>2019</td>\n",
       "      <td>9</td>\n",
       "      <td>41.711395</td>\n",
       "      <td>29.873108</td>\n",
       "      <td>28.330505</td>\n",
       "      <td>32.087708</td>\n",
       "      <td>308.896500</td>\n",
       "      <td>312.504060</td>\n",
       "      <td>310.206630</td>\n",
       "      <td>243.551130</td>\n",
       "      <td>90.206894</td>\n",
       "      <td>89.000000</td>\n",
       "      <td>85.183910</td>\n",
       "      <td>68.770120</td>\n",
       "      <td>0</td>\n",
       "    </tr>\n",
       "    <tr>\n",
       "      <th>57636</th>\n",
       "      <td>16697</td>\n",
       "      <td>2019</td>\n",
       "      <td>10</td>\n",
       "      <td>29.873108</td>\n",
       "      <td>28.330505</td>\n",
       "      <td>32.087708</td>\n",
       "      <td>28.918060</td>\n",
       "      <td>312.504060</td>\n",
       "      <td>310.206630</td>\n",
       "      <td>243.551130</td>\n",
       "      <td>207.554380</td>\n",
       "      <td>89.000000</td>\n",
       "      <td>85.183910</td>\n",
       "      <td>68.770120</td>\n",
       "      <td>50.137930</td>\n",
       "      <td>0</td>\n",
       "    </tr>\n",
       "    <tr>\n",
       "      <th>57637</th>\n",
       "      <td>16697</td>\n",
       "      <td>2019</td>\n",
       "      <td>11</td>\n",
       "      <td>28.330505</td>\n",
       "      <td>32.087708</td>\n",
       "      <td>28.918060</td>\n",
       "      <td>29.032227</td>\n",
       "      <td>310.206630</td>\n",
       "      <td>243.551130</td>\n",
       "      <td>207.554380</td>\n",
       "      <td>92.452390</td>\n",
       "      <td>85.183910</td>\n",
       "      <td>68.770120</td>\n",
       "      <td>50.137930</td>\n",
       "      <td>44.494250</td>\n",
       "      <td>0</td>\n",
       "    </tr>\n",
       "    <tr>\n",
       "      <th>57638</th>\n",
       "      <td>16697</td>\n",
       "      <td>2019</td>\n",
       "      <td>12</td>\n",
       "      <td>32.087708</td>\n",
       "      <td>28.918060</td>\n",
       "      <td>29.032227</td>\n",
       "      <td>30.505737</td>\n",
       "      <td>243.551130</td>\n",
       "      <td>207.554380</td>\n",
       "      <td>92.452390</td>\n",
       "      <td>18.793009</td>\n",
       "      <td>68.770120</td>\n",
       "      <td>50.137930</td>\n",
       "      <td>44.494250</td>\n",
       "      <td>32.643677</td>\n",
       "      <td>0</td>\n",
       "    </tr>\n",
       "  </tbody>\n",
       "</table>\n",
       "<p>57639 rows × 16 columns</p>\n",
       "</div>"
      ],
      "text/plain": [
       "       location_period_id  year  month      lst_3      lst_2      lst_1  \\\n",
       "0                      92  2010      1  32.357544  33.726624  34.437530   \n",
       "1                      92  2010      2  33.726624  34.437530  35.159393   \n",
       "2                      92  2010      3  34.437530  35.159393  37.299316   \n",
       "3                      92  2010      4  35.159393  37.299316  37.331665   \n",
       "4                      92  2010      5  37.299316  37.331665  39.188446   \n",
       "...                   ...   ...    ...        ...        ...        ...   \n",
       "57634               16697  2019      8  39.427277  41.711395  29.873108   \n",
       "57635               16697  2019      9  41.711395  29.873108  28.330505   \n",
       "57636               16697  2019     10  29.873108  28.330505  32.087708   \n",
       "57637               16697  2019     11  28.330505  32.087708  28.918060   \n",
       "57638               16697  2019     12  32.087708  28.918060  29.032227   \n",
       "\n",
       "           lst_0    precip_3    precip_2    precip_1    precip_0       sm_3  \\\n",
       "0      35.159393  288.192780   61.916030    2.243044    0.277970  75.846150   \n",
       "1      37.299316   61.916030    2.243044    0.277970    0.205065  55.673077   \n",
       "2      37.331665    2.243044    0.277970    0.205065    0.414880  25.692308   \n",
       "3      39.188446    0.277970    0.205065    0.414880    6.336623  11.038462   \n",
       "4      38.275238    0.205065    0.414880    6.336623  106.946400   5.673077   \n",
       "...          ...         ...         ...         ...         ...        ...   \n",
       "57634  28.330505  146.727780  308.896500  312.504060  310.206630  63.965520   \n",
       "57635  32.087708  308.896500  312.504060  310.206630  243.551130  90.206894   \n",
       "57636  28.918060  312.504060  310.206630  243.551130  207.554380  89.000000   \n",
       "57637  29.032227  310.206630  243.551130  207.554380   92.452390  85.183910   \n",
       "57638  30.505737  243.551130  207.554380   92.452390   18.793009  68.770120   \n",
       "\n",
       "            sm_2       sm_1       sm_0  outbreak  \n",
       "0      55.673077  25.692308  11.038462         0  \n",
       "1      25.692308  11.038462   5.673077         0  \n",
       "2      11.038462   5.673077   1.826923         0  \n",
       "3       5.673077   1.826923   1.634615         0  \n",
       "4       1.826923   1.634615  23.211538         0  \n",
       "...          ...        ...        ...       ...  \n",
       "57634  90.206894  89.000000  85.183910         0  \n",
       "57635  89.000000  85.183910  68.770120         0  \n",
       "57636  85.183910  68.770120  50.137930         0  \n",
       "57637  68.770120  50.137930  44.494250         0  \n",
       "57638  50.137930  44.494250  32.643677         0  \n",
       "\n",
       "[57639 rows x 16 columns]"
      ]
     },
     "execution_count": 3,
     "metadata": {},
     "output_type": "execute_result"
    }
   ],
   "source": [
    "full_df = pd.read_csv(\"../data/zonal-means-aggregate-200910-201912.csv\")\n",
    "full_df"
   ]
  },
  {
   "cell_type": "code",
   "execution_count": 4,
   "metadata": {},
   "outputs": [
    {
     "name": "stdout",
     "output_type": "stream",
     "text": [
      "Class Distribution:\n",
      " outbreak\n",
      "0    56982\n",
      "1      657\n",
      "Name: count, dtype: int64\n"
     ]
    }
   ],
   "source": [
    "class_counts = full_df[\"outbreak\"].value_counts()\n",
    "print(\"Class Distribution:\\n\", class_counts)"
   ]
  },
  {
   "cell_type": "code",
   "execution_count": 5,
   "metadata": {},
   "outputs": [],
   "source": [
    "# rename target columns to focus on oversample of minority class\n",
    "X = full_df.drop(columns=[\"outbreak\", \"location_period_id\", \"year\"])\n",
    "y = full_df[\"outbreak\"]"
   ]
  },
  {
   "cell_type": "markdown",
   "metadata": {},
   "source": [
    "The SMOTE algorithm for treating imbalanced datasets cannot deal with missing values (NaNs) for Feature columns, so we need to impute the missing data"
   ]
  },
  {
   "cell_type": "code",
   "execution_count": 6,
   "metadata": {},
   "outputs": [],
   "source": [
    "# Trying simplist forward fill imputation strategy first\n",
    "X_imputed = X.ffill()"
   ]
  },
  {
   "cell_type": "code",
   "execution_count": 7,
   "metadata": {},
   "outputs": [],
   "source": [
    "# convert the result back to a DataFrame\n",
    "X_imputed = pd.DataFrame(X_imputed, columns=X.columns)"
   ]
  },
  {
   "cell_type": "code",
   "execution_count": 8,
   "metadata": {},
   "outputs": [],
   "source": [
    "# split the dataset into train and test splits\n",
    "X_train, X_test, y_train, y_test = train_test_split(\n",
    "    X_imputed, y, test_size=0.3, random_state=42\n",
    ")"
   ]
  },
  {
   "cell_type": "code",
   "execution_count": 9,
   "metadata": {},
   "outputs": [],
   "source": [
    "# apply SMOTE to the training data with a 1:10 ratio as used by Campbell et al 2020\n",
    "smote = SMOTE(sampling_strategy=0.1, random_state=42)\n",
    "X_resampled, y_resampled = smote.fit_resample(X_train, y_train)"
   ]
  },
  {
   "cell_type": "code",
   "execution_count": 10,
   "metadata": {},
   "outputs": [
    {
     "name": "stdout",
     "output_type": "stream",
     "text": [
      "\n",
      "Class Distribution after SMOTE:\n",
      " outbreak\n",
      "0    39893\n",
      "1     3989\n",
      "Name: count, dtype: int64\n"
     ]
    }
   ],
   "source": [
    "# check the new class distribution after SMOTE\n",
    "resampled_class_counts = pd.Series(y_resampled).value_counts()\n",
    "print(\"\\nClass Distribution after SMOTE:\\n\", resampled_class_counts)"
   ]
  },
  {
   "cell_type": "code",
   "execution_count": 11,
   "metadata": {},
   "outputs": [
    {
     "data": {
      "text/html": [
       "<style>#sk-container-id-1 {color: black;}#sk-container-id-1 pre{padding: 0;}#sk-container-id-1 div.sk-toggleable {background-color: white;}#sk-container-id-1 label.sk-toggleable__label {cursor: pointer;display: block;width: 100%;margin-bottom: 0;padding: 0.3em;box-sizing: border-box;text-align: center;}#sk-container-id-1 label.sk-toggleable__label-arrow:before {content: \"▸\";float: left;margin-right: 0.25em;color: #696969;}#sk-container-id-1 label.sk-toggleable__label-arrow:hover:before {color: black;}#sk-container-id-1 div.sk-estimator:hover label.sk-toggleable__label-arrow:before {color: black;}#sk-container-id-1 div.sk-toggleable__content {max-height: 0;max-width: 0;overflow: hidden;text-align: left;background-color: #f0f8ff;}#sk-container-id-1 div.sk-toggleable__content pre {margin: 0.2em;color: black;border-radius: 0.25em;background-color: #f0f8ff;}#sk-container-id-1 input.sk-toggleable__control:checked~div.sk-toggleable__content {max-height: 200px;max-width: 100%;overflow: auto;}#sk-container-id-1 input.sk-toggleable__control:checked~label.sk-toggleable__label-arrow:before {content: \"▾\";}#sk-container-id-1 div.sk-estimator input.sk-toggleable__control:checked~label.sk-toggleable__label {background-color: #d4ebff;}#sk-container-id-1 div.sk-label input.sk-toggleable__control:checked~label.sk-toggleable__label {background-color: #d4ebff;}#sk-container-id-1 input.sk-hidden--visually {border: 0;clip: rect(1px 1px 1px 1px);clip: rect(1px, 1px, 1px, 1px);height: 1px;margin: -1px;overflow: hidden;padding: 0;position: absolute;width: 1px;}#sk-container-id-1 div.sk-estimator {font-family: monospace;background-color: #f0f8ff;border: 1px dotted black;border-radius: 0.25em;box-sizing: border-box;margin-bottom: 0.5em;}#sk-container-id-1 div.sk-estimator:hover {background-color: #d4ebff;}#sk-container-id-1 div.sk-parallel-item::after {content: \"\";width: 100%;border-bottom: 1px solid gray;flex-grow: 1;}#sk-container-id-1 div.sk-label:hover label.sk-toggleable__label {background-color: #d4ebff;}#sk-container-id-1 div.sk-serial::before {content: \"\";position: absolute;border-left: 1px solid gray;box-sizing: border-box;top: 0;bottom: 0;left: 50%;z-index: 0;}#sk-container-id-1 div.sk-serial {display: flex;flex-direction: column;align-items: center;background-color: white;padding-right: 0.2em;padding-left: 0.2em;position: relative;}#sk-container-id-1 div.sk-item {position: relative;z-index: 1;}#sk-container-id-1 div.sk-parallel {display: flex;align-items: stretch;justify-content: center;background-color: white;position: relative;}#sk-container-id-1 div.sk-item::before, #sk-container-id-1 div.sk-parallel-item::before {content: \"\";position: absolute;border-left: 1px solid gray;box-sizing: border-box;top: 0;bottom: 0;left: 50%;z-index: -1;}#sk-container-id-1 div.sk-parallel-item {display: flex;flex-direction: column;z-index: 1;position: relative;background-color: white;}#sk-container-id-1 div.sk-parallel-item:first-child::after {align-self: flex-end;width: 50%;}#sk-container-id-1 div.sk-parallel-item:last-child::after {align-self: flex-start;width: 50%;}#sk-container-id-1 div.sk-parallel-item:only-child::after {width: 0;}#sk-container-id-1 div.sk-dashed-wrapped {border: 1px dashed gray;margin: 0 0.4em 0.5em 0.4em;box-sizing: border-box;padding-bottom: 0.4em;background-color: white;}#sk-container-id-1 div.sk-label label {font-family: monospace;font-weight: bold;display: inline-block;line-height: 1.2em;}#sk-container-id-1 div.sk-label-container {text-align: center;}#sk-container-id-1 div.sk-container {/* jupyter's `normalize.less` sets `[hidden] { display: none; }` but bootstrap.min.css set `[hidden] { display: none !important; }` so we also need the `!important` here to be able to override the default hidden behavior on the sphinx rendered scikit-learn.org. See: https://github.com/scikit-learn/scikit-learn/issues/21755 */display: inline-block !important;position: relative;}#sk-container-id-1 div.sk-text-repr-fallback {display: none;}</style><div id=\"sk-container-id-1\" class=\"sk-top-container\"><div class=\"sk-text-repr-fallback\"><pre>RandomForestClassifier(random_state=42)</pre><b>In a Jupyter environment, please rerun this cell to show the HTML representation or trust the notebook. <br />On GitHub, the HTML representation is unable to render, please try loading this page with nbviewer.org.</b></div><div class=\"sk-container\" hidden><div class=\"sk-item\"><div class=\"sk-estimator sk-toggleable\"><input class=\"sk-toggleable__control sk-hidden--visually\" id=\"sk-estimator-id-1\" type=\"checkbox\" checked><label for=\"sk-estimator-id-1\" class=\"sk-toggleable__label sk-toggleable__label-arrow\">RandomForestClassifier</label><div class=\"sk-toggleable__content\"><pre>RandomForestClassifier(random_state=42)</pre></div></div></div></div></div>"
      ],
      "text/plain": [
       "RandomForestClassifier(random_state=42)"
      ]
     },
     "execution_count": 11,
     "metadata": {},
     "output_type": "execute_result"
    }
   ],
   "source": [
    "# train your machine learning model on the balanced dataset\n",
    "clf = RandomForestClassifier(random_state=42)\n",
    "clf.fit(X_resampled, y_resampled)"
   ]
  },
  {
   "cell_type": "code",
   "execution_count": 12,
   "metadata": {},
   "outputs": [
    {
     "name": "stdout",
     "output_type": "stream",
     "text": [
      "\n",
      "Model Accuracy on Test Set: 0.987971316215591\n"
     ]
    }
   ],
   "source": [
    "# evaluate your model\n",
    "accuracy = clf.score(X_test, y_test)\n",
    "print(\"\\nModel Accuracy on Test Set:\", accuracy)"
   ]
  },
  {
   "cell_type": "code",
   "execution_count": 13,
   "metadata": {},
   "outputs": [
    {
     "name": "stdout",
     "output_type": "stream",
     "text": [
      "Top 10 Most Influential Features:\n",
      "     Feature  Importance\n",
      "8   precip_0    0.095416\n",
      "5   precip_3    0.093088\n",
      "7   precip_1    0.092672\n",
      "6   precip_2    0.086269\n",
      "12      sm_0    0.080396\n",
      "4      lst_0    0.076191\n",
      "11      sm_1    0.073976\n",
      "1      lst_3    0.073633\n",
      "9       sm_3    0.072840\n",
      "3      lst_1    0.070152\n"
     ]
    }
   ],
   "source": [
    "# train your machine learning model on the balanced dataset (already done in the previous code)\n",
    "\n",
    "# get feature importances from the trained RandomForestClassifier\n",
    "feature_importances = clf.feature_importances_\n",
    "\n",
    "# create a DataFrame to display feature names and their corresponding importances\n",
    "feature_importance_df = pd.DataFrame(\n",
    "    {\"Feature\": X_imputed.columns, \"Importance\": feature_importances}\n",
    ")\n",
    "\n",
    "# sort the DataFrame by importance in descending order\n",
    "feature_importance_df = feature_importance_df.sort_values(\n",
    "    by=\"Importance\", ascending=False\n",
    ")\n",
    "\n",
    "# print the top N most influential features (adjust N as needed)\n",
    "top_n_features = 10  # Change this to the number of top features you want to display\n",
    "print(f\"Top {top_n_features} Most Influential Features:\")\n",
    "print(feature_importance_df.head(top_n_features))"
   ]
  },
  {
   "cell_type": "markdown",
   "metadata": {},
   "source": [
    "TO DO: \n",
    "* Move model development to another notebook\n",
    "* Reduce (redundant or correlated) features through PCA or similar\n",
    "* Run sensitivity analysis on imputation strategies"
   ]
  }
 ],
 "metadata": {
  "kernelspec": {
   "display_name": "geo-ds-cholera",
   "language": "python",
   "name": "python3"
  },
  "language_info": {
   "codemirror_mode": {
    "name": "ipython",
    "version": 3
   },
   "file_extension": ".py",
   "mimetype": "text/x-python",
   "name": "python",
   "nbconvert_exporter": "python",
   "pygments_lexer": "ipython3",
   "version": "3.11.5"
  },
  "orig_nbformat": 4
 },
 "nbformat": 4,
 "nbformat_minor": 2
}
