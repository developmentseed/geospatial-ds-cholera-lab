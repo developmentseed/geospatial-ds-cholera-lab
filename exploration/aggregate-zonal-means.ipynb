{
 "cells": [
  {
   "attachments": {},
   "cell_type": "markdown",
   "metadata": {},
   "source": [
    "# Aggregate Zonal Means"
   ]
  },
  {
   "cell_type": "code",
   "execution_count": null,
   "metadata": {},
   "outputs": [],
   "source": [
    "import pandas as pd"
   ]
  },
  {
   "attachments": {},
   "cell_type": "markdown",
   "metadata": {},
   "source": [
    "We will read the zonal means CSVs and then use the data to create an aggregate dataframe. "
   ]
  },
  {
   "cell_type": "code",
   "execution_count": null,
   "metadata": {},
   "outputs": [],
   "source": [
    "lst_df = pd.read_csv(\n",
    "    \"../data/zonal-means-lst-200910-201912.csv\",\n",
    "    index_col=[\"year\", \"month\", \"location_period_id\"],\n",
    ")\n",
    "lst_df"
   ]
  },
  {
   "cell_type": "code",
   "execution_count": null,
   "metadata": {},
   "outputs": [],
   "source": [
    "precip_df = pd.read_csv(\n",
    "    \"../data/zonal-means-precip-200910-201912.csv\",\n",
    "    index_col=[\"year\", \"month\", \"location_period_id\"],\n",
    ")\n",
    "precip_df"
   ]
  },
  {
   "cell_type": "code",
   "execution_count": null,
   "metadata": {},
   "outputs": [],
   "source": [
    "sm_df = pd.read_csv(\n",
    "    \"../data/zonal-means-sm-200910-201912.csv\",\n",
    "    index_col=[\"year\", \"month\", \"location_period_id\"],\n",
    ")\n",
    "sm_df"
   ]
  },
  {
   "cell_type": "code",
   "execution_count": null,
   "metadata": {},
   "outputs": [],
   "source": [
    "merged_lst_df = pd.DataFrame()\n",
    "merged_lst_df[\"lst_m\"] = lst_df\n",
    "merged_lst_df[\"lst_m_1\"] = lst_df.groupby(\"location_period_id\").shift(1)\n",
    "merged_lst_df[\"lst_m_2\"] = lst_df.groupby(\"location_period_id\").shift(2)\n",
    "merged_lst_df[\"lst_m_3\"] = lst_df.groupby(\"location_period_id\").shift(3)\n",
    "merged_lst_df"
   ]
  },
  {
   "cell_type": "code",
   "execution_count": null,
   "metadata": {},
   "outputs": [],
   "source": [
    "merged_precip_df = pd.DataFrame()\n",
    "merged_precip_df[\"precip_m\"] = precip_df\n",
    "merged_precip_df[\"precip_m_1\"] = precip_df.groupby(\"location_period_id\").shift(1)\n",
    "merged_precip_df[\"precip_m_2\"] = precip_df.groupby(\"location_period_id\").shift(2)\n",
    "merged_precip_df[\"precip_m_3\"] = precip_df.groupby(\"location_period_id\").shift(3)\n",
    "merged_precip_df"
   ]
  },
  {
   "cell_type": "code",
   "execution_count": null,
   "metadata": {},
   "outputs": [],
   "source": [
    "merged_sm_df = pd.DataFrame()\n",
    "merged_sm_df[\"sm_m\"] = sm_df\n",
    "merged_sm_df[\"sm_m_1\"] = sm_df.groupby(\"location_period_id\").shift(1)\n",
    "merged_sm_df[\"sm_m_2\"] = sm_df.groupby(\"location_period_id\").shift(2)\n",
    "merged_sm_df[\"sm_m_3\"] = sm_df.groupby(\"location_period_id\").shift(3)\n",
    "merged_sm_df"
   ]
  },
  {
   "cell_type": "code",
   "execution_count": null,
   "metadata": {},
   "outputs": [],
   "source": [
    "aggregate_zonal_means_df = pd.merge(\n",
    "    merged_lst_df, merged_precip_df, left_index=True, right_index=True\n",
    ")\n",
    "aggregate_zonal_means_df = pd.merge(\n",
    "    merged_sm_df,\n",
    "    aggregate_zonal_means_df,\n",
    "    how=\"left\",\n",
    "    left_index=True,\n",
    "    right_index=True,\n",
    ")\n",
    "aggregate_zonal_means_df"
   ]
  }
 ],
 "metadata": {
  "kernelspec": {
   "display_name": "geo-ds-cholera",
   "language": "python",
   "name": "python3"
  }
 },
 "nbformat": 4,
 "nbformat_minor": 2
}
