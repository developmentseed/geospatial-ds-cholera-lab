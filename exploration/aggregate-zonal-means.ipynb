{
 "cells": [
  {
   "attachments": {},
   "cell_type": "markdown",
   "metadata": {},
   "source": [
    "# Aggregate Zonal Means\n"
   ]
  },
  {
   "cell_type": "code",
   "execution_count": null,
   "metadata": {},
   "outputs": [],
   "source": [
    "import pandas as pd\n",
    "\n",
    "from cholera import outbreaks"
   ]
  },
  {
   "attachments": {},
   "cell_type": "markdown",
   "metadata": {},
   "source": [
    "We will read the zonal means CSVs and then use the data to create an aggregate dataframe.\n"
   ]
  },
  {
   "cell_type": "code",
   "execution_count": null,
   "metadata": {},
   "outputs": [],
   "source": [
    "def read_csv_sorted(csv: str) -> pd.DataFrame:\n",
    "    return pd.read_csv(\n",
    "        csv, index_col=[\"location_period_id\", \"year\", \"month\"]\n",
    "    ).sort_index()\n",
    "\n",
    "\n",
    "def assign_trailing_values(df: pd.DataFrame) -> pd.DataFrame:\n",
    "    name = df.columns[0]\n",
    "\n",
    "    return (\n",
    "        df.sort_index()\n",
    "        .assign(\n",
    "            **{\n",
    "                f\"{name}_3\": lambda df: df[name].shift(3),\n",
    "                f\"{name}_2\": lambda df: df[name].shift(2),\n",
    "                f\"{name}_1\": lambda df: df[name].shift(1),\n",
    "                f\"{name}_0\": lambda df: df[name],\n",
    "            }\n",
    "        )\n",
    "        .drop(columns=[name])\n",
    "        .iloc[3:]\n",
    "    )"
   ]
  },
  {
   "cell_type": "code",
   "execution_count": null,
   "metadata": {},
   "outputs": [],
   "source": [
    "lst_df = read_csv_sorted(\"../data/zonal-means-lst-200910-201912.csv\")\n",
    "lst_df"
   ]
  },
  {
   "cell_type": "code",
   "execution_count": null,
   "metadata": {},
   "outputs": [],
   "source": [
    "trailing_lst_df = assign_trailing_values(lst_df)\n",
    "trailing_lst_df"
   ]
  },
  {
   "cell_type": "code",
   "execution_count": null,
   "metadata": {},
   "outputs": [],
   "source": [
    "precip_df = read_csv_sorted(\"../data/zonal-means-precip-200910-201912.csv\")\n",
    "precip_df"
   ]
  },
  {
   "cell_type": "code",
   "execution_count": null,
   "metadata": {},
   "outputs": [],
   "source": [
    "trailing_precip_df = assign_trailing_values(precip_df)\n",
    "trailing_precip_df"
   ]
  },
  {
   "cell_type": "code",
   "execution_count": null,
   "metadata": {},
   "outputs": [],
   "source": [
    "sm_df = read_csv_sorted(\"../data/zonal-means-sm-200910-201912.csv\")\n",
    "sm_df"
   ]
  },
  {
   "cell_type": "code",
   "execution_count": null,
   "metadata": {},
   "outputs": [],
   "source": [
    "trailing_sm_df = assign_trailing_values(sm_df)\n",
    "trailing_sm_df"
   ]
  },
  {
   "cell_type": "code",
   "execution_count": null,
   "metadata": {},
   "outputs": [],
   "source": [
    "aggregate_zonal_means_df = trailing_lst_df.join(trailing_precip_df, how=\"outer\").join(\n",
    "    trailing_sm_df, how=\"outer\"\n",
    ")\n",
    "\n",
    "aggregate_zonal_means_df"
   ]
  },
  {
   "cell_type": "code",
   "execution_count": null,
   "metadata": {},
   "outputs": [],
   "source": [
    "outbreak_flag_df = (\n",
    "    outbreaks.within_admin2()[[\"location_period_id\", \"start_year\", \"start_month\"]]\n",
    "    .rename(columns={\"start_year\": \"year\", \"start_month\": \"month\"})\n",
    "    .set_index([\"location_period_id\", \"year\", \"month\"])\n",
    "    .sort_index()\n",
    "    .assign(outbreak=1)\n",
    ")\n",
    "\n",
    "outbreak_flag_df"
   ]
  },
  {
   "cell_type": "code",
   "execution_count": null,
   "metadata": {},
   "outputs": [],
   "source": [
    "ml_ready_df = (\n",
    "    aggregate_zonal_means_df.join(outbreak_flag_df, how=\"left\")\n",
    "    .fillna({\"outbreak\": 0})\n",
    "    .convert_dtypes()\n",
    ")\n",
    "\n",
    "ml_ready_df"
   ]
  },
  {
   "cell_type": "code",
   "execution_count": null,
   "metadata": {},
   "outputs": [],
   "source": [
    "ml_ready_df.value_counts(\"outbreak\")"
   ]
  },
  {
   "cell_type": "code",
   "execution_count": null,
   "metadata": {},
   "outputs": [],
   "source": [
    "ml_ready_df.to_csv(\"../data/zonal-means-aggregate-200910-201912.csv\")"
   ]
  }
 ],
 "metadata": {
  "kernelspec": {
   "display_name": "geo-ds-cholera",
   "language": "python",
   "name": "python3"
  }
 },
 "nbformat": 4,
 "nbformat_minor": 2
}
