{
 "cells": [
  {
   "cell_type": "markdown",
   "metadata": {},
   "source": [
    "# Exploring Land Surface Temperature\n",
    "\n",
    "[ESA Land Surface Temperature Climate Change Initiative (LST_cci): Monthly Multisensor Infra-Red (IR) Low Earth Orbit (LEO) land surface temperature (LST) time series level 3 supercollated (L3S) global product (1995-2020), version 2.00](https://catalogue.ceda.ac.uk/uuid/785ef9d3965442669bff899540747e28).\n"
   ]
  },
  {
   "cell_type": "code",
   "execution_count": null,
   "metadata": {},
   "outputs": [],
   "source": [
    "import typing\n",
    "import warnings\n",
    "\n",
    "import geopandas as gpd\n",
    "import numpy as np\n",
    "import pandas as pd\n",
    "\n",
    "from shapely.errors import ShapelyDeprecationWarning\n",
    "\n",
    "warnings.filterwarnings(\"ignore\", category=ShapelyDeprecationWarning)\n"
   ]
  },
  {
   "cell_type": "markdown",
   "metadata": {},
   "source": [
    "## Obtain Geometries for Cholera Outbreak Regions\n"
   ]
  },
  {
   "cell_type": "markdown",
   "metadata": {},
   "source": [
    "First, let's read our outbreak data and select all outbreaks in admin2 regions:\n"
   ]
  },
  {
   "cell_type": "code",
   "execution_count": null,
   "metadata": {},
   "outputs": [],
   "source": [
    "admin2_outbreaks_df = (\n",
    "    pd.read_csv(\"../data/outbreak_data.csv\", parse_dates=[\"start_date\", \"end_date\"])\n",
    "    .query(\"spatial_scale == 'admin2'\")\n",
    "    .assign(\n",
    "        start_year=lambda df: df.start_date.dt.year,\n",
    "        start_month=lambda df: df.start_date.dt.month,\n",
    "        duration_in_months=lambda df: np.ceil(\n",
    "            (df.end_date - df.start_date) / np.timedelta64(1, \"M\")\n",
    "        ).astype(int),\n",
    "    )\n",
    ")\n",
    "\n",
    "admin2_outbreaks_df\n"
   ]
  },
  {
   "cell_type": "markdown",
   "metadata": {},
   "source": [
    "Merge our distinct location period IDs with the shapefile to obtain the geometries for\n",
    "only our distinct admin2 outbreak regions:\n"
   ]
  },
  {
   "cell_type": "code",
   "execution_count": null,
   "metadata": {},
   "outputs": [],
   "source": [
    "geolocations_gdf = typing.cast(\n",
    "    gpd.GeoDataFrame,\n",
    "    gpd.read_file(\"../data/AfricaShapefiles/total_shp_0427.shp\")\n",
    "    .rename(columns={\"lctn_pr\": \"location_period_id\"})\n",
    "    .merge(\n",
    "        admin2_outbreaks_df[[\"location_period_id\"]].drop_duplicates(),\n",
    "        how=\"inner\",\n",
    "        on=\"location_period_id\",\n",
    "    )\n",
    "    .drop_duplicates(\"geometry\", keep=False),\n",
    ")\n",
    "\n",
    "geolocations_gdf\n"
   ]
  },
  {
   "cell_type": "code",
   "execution_count": null,
   "metadata": {},
   "outputs": [],
   "source": [
    "display(geolocations_gdf.crs)\n",
    "geolocations_gdf.boundary.plot(linewidth=0.2)\n"
   ]
  }
 ],
 "metadata": {
  "kernelspec": {
   "display_name": "Python 3 (ipykernel)",
   "language": "python",
   "name": "python3"
  }
 },
 "nbformat": 4,
 "nbformat_minor": 2
}
