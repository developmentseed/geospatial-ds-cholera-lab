{
 "cells": [
  {
   "attachments": {},
   "cell_type": "markdown",
   "metadata": {},
   "source": [
    "# Compute Zonal Means\n"
   ]
  },
  {
   "cell_type": "code",
   "execution_count": null,
   "metadata": {},
   "outputs": [],
   "source": [
    "%load_ext dotenv\n",
    "%dotenv\n",
    "\n",
    "import os\n",
    "from importlib import reload\n",
    "from typing import cast\n",
    "\n",
    "import pandas as pd\n",
    "\n",
    "from cholera import ceda, lst, outbreaks, precip, xarray_ as xr_\n",
    "\n",
    "# Reload modules to avoid the need to restart the notebook kernel after making\n",
    "# code changes within the modules.\n",
    "reload(lst)\n",
    "reload(precip)\n",
    "reload(xr_)\n",
    "None"
   ]
  },
  {
   "cell_type": "code",
   "execution_count": null,
   "metadata": {},
   "outputs": [],
   "source": [
    "def zonal_means_to_csv(zonal_means: pd.DataFrame) -> str:\n",
    "    times = zonal_means.index.get_level_values(\"time\")\n",
    "    begin_time = cast(pd.Timestamp, times.min()).date()\n",
    "    end_time = cast(pd.Timestamp, times.max()).date()\n",
    "    path = (\n",
    "        f\"../data/zonal-means-{zonal_means.columns[0]}-\"\n",
    "        f\"{begin_time.strftime('%Y%m')}-{end_time.strftime('%Y%m')}.csv\"\n",
    "    )\n",
    "    zonal_means.to_csv(path)\n",
    "\n",
    "    return path"
   ]
  },
  {
   "cell_type": "code",
   "execution_count": null,
   "metadata": {},
   "outputs": [],
   "source": [
    "expiry = ceda.auth(\n",
    "    username=os.environ[\"CEDA_USERNAME\"],\n",
    "    password=os.environ[\"CEDA_PASSWORD\"],\n",
    ")\n",
    "\n",
    "print(f\"CEDA OPeNDAP certificate is valid through {expiry.isoformat()} UTC\")"
   ]
  },
  {
   "cell_type": "code",
   "execution_count": null,
   "metadata": {},
   "outputs": [],
   "source": [
    "regions = outbreaks.regions()\n",
    "start_months = outbreaks.start_month_range()\n",
    "\n",
    "# Entire monthly range of outbreaks, with a 3-month prelude\n",
    "all_months = slice(start_months[0] - pd.offsets.MonthBegin(3), start_months[-1])\n",
    "print(all_months)"
   ]
  },
  {
   "cell_type": "code",
   "execution_count": null,
   "metadata": {},
   "outputs": [],
   "source": [
    "lst_zonal_means = lst.zonal_means(regions, time=all_months)\n",
    "zonal_means_to_csv(lst_zonal_means)\n",
    "lst_zonal_means"
   ]
  },
  {
   "cell_type": "code",
   "execution_count": null,
   "metadata": {},
   "outputs": [],
   "source": [
    "precip_zonal_means = precip.zonal_means(regions, time=all_months)\n",
    "zonal_means_to_csv(precip_zonal_means)\n",
    "precip_zonal_means"
   ]
  }
 ],
 "metadata": {
  "kernelspec": {
   "display_name": "Python 3 (ipykernel)",
   "language": "python",
   "name": "python3"
  }
 },
 "nbformat": 4,
 "nbformat_minor": 4
}
