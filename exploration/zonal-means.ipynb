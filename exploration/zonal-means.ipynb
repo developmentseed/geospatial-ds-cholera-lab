{
 "cells": [
  {
   "attachments": {},
   "cell_type": "markdown",
   "metadata": {},
   "source": [
    "# Compute Zonal Means\n"
   ]
  },
  {
   "cell_type": "code",
   "execution_count": null,
   "metadata": {},
   "outputs": [],
   "source": [
    "%load_ext dotenv\n",
    "%dotenv\n",
    "\n",
    "import os\n",
    "from importlib import reload\n",
    "\n",
    "import pandas as pd\n",
    "\n",
    "from cholera import ceda, lst, outbreaks, precip, sm, xarray_ as xr_\n",
    "\n",
    "# Reload modules to avoid the need to restart the notebook kernel after making\n",
    "# code changes within the modules.\n",
    "reload(lst)\n",
    "reload(precip)\n",
    "reload(sm)\n",
    "reload(xr_)\n",
    "None"
   ]
  },
  {
   "cell_type": "code",
   "execution_count": null,
   "metadata": {},
   "outputs": [],
   "source": [
    "def zonal_means_to_csv(zonal_means: pd.DataFrame) -> str:\n",
    "    start_year, start_month, _ = zonal_means.index.min()\n",
    "    end_year, end_month, _ = zonal_means.index.max()\n",
    "    path = (\n",
    "        f\"../data/zonal-means-{zonal_means.columns[0]}-\"\n",
    "        f\"{start_year}{start_month:02d}-{end_year}{end_month:02d}.csv\"\n",
    "    )\n",
    "    zonal_means.to_csv(path)\n",
    "\n",
    "    return path"
   ]
  },
  {
   "cell_type": "code",
   "execution_count": null,
   "metadata": {},
   "outputs": [],
   "source": [
    "username = os.environ.get(\"CEDA_SERNAME\")\n",
    "password = os.environ.get(\"CEDA_PASSWORD\")\n",
    "expiry = (\n",
    "    ceda.auth(username=username, password=password) if username and password else None\n",
    ")\n",
    "\n",
    "print(\n",
    "    f\"CEDA OPeNDAP certificate is valid through {expiry.isoformat()} UTC\"\n",
    "    if expiry\n",
    "    else \"Skipping CEDA auth check since a username and password were not configured\"\n",
    ")"
   ]
  },
  {
   "cell_type": "code",
   "execution_count": null,
   "metadata": {},
   "outputs": [],
   "source": [
    "regions = outbreaks.regions()\n",
    "start_months = outbreaks.start_month_range()\n",
    "\n",
    "# Entire monthly range of outbreaks, with a 3-month prelude, and setting the\n",
    "# end date to the end of the month.\n",
    "all_months = slice(\n",
    "    start_months[0] - pd.offsets.MonthBegin(3),\n",
    "    start_months[-1] + pd.offsets.MonthEnd(),\n",
    ")\n",
    "print(all_months)"
   ]
  },
  {
   "cell_type": "code",
   "execution_count": null,
   "metadata": {},
   "outputs": [],
   "source": [
    "precip_zonal_means = precip.zonal_means(regions, time=all_months)\n",
    "zonal_means_to_csv(precip_zonal_means)\n",
    "precip_zonal_means"
   ]
  },
  {
   "cell_type": "code",
   "execution_count": null,
   "metadata": {},
   "outputs": [],
   "source": [
    "sm_zonal_means = sm.zonal_means(regions, time=all_months)\n",
    "zonal_means_to_csv(sm_zonal_means)\n",
    "sm_zonal_means"
   ]
  },
  {
   "cell_type": "code",
   "execution_count": null,
   "metadata": {},
   "outputs": [],
   "source": [
    "if expiry:\n",
    "    lst_zonal_means = lst.zonal_means(regions, time=all_months)\n",
    "    zonal_means_to_csv(lst_zonal_means)\n",
    "    display(lst_zonal_means)"
   ]
  }
 ],
 "metadata": {
  "kernelspec": {
   "display_name": "Python 3 (ipykernel)",
   "language": "python",
   "name": "python3"
  }
 },
 "nbformat": 4,
 "nbformat_minor": 4
}
