{
 "cells": [
  {
   "attachments": {},
   "cell_type": "markdown",
   "metadata": {},
   "source": [
    "# Compute Zonal Means\n",
    "\n",
    "Compute the monthly zonal means for the following environmental parameters, from\n",
    "3 months prior to the start month of the earliest outbreak in our dataset\n",
    "through the start month of the latest outbreak:\n",
    "\n",
    "1. Soil moisture (sm)\n",
    "2. Precipitation (precip)\n",
    "3. Land Surface Temperature (LST, daytime)\n",
    "\n",
    "Note that we obtain LST data through CEDA via their OPeNDAP server, which\n",
    "requires registering for an account at\n",
    "https://services.ceda.ac.uk/cedasite/register/info/, and then specifying the\n",
    "username and password for your account within your `.env` file (see `README.md`\n",
    "for creating your `.env` file).\n",
    "\n",
    "However, you may run this notebook without creating a CEDA account (and thus\n",
    "without specifying your credentials in your `.env` file).  In this case, the\n",
    "computation of zonal means for LST will simply be skipped, and only the soil\n",
    "moisture and precipitation zonal means will be computed.\n",
    "\n",
    "Beyond optionally registering for a CEDA account, running this notebook requires\n",
    "no prerequisites."
   ]
  },
  {
   "cell_type": "code",
   "execution_count": null,
   "metadata": {},
   "outputs": [],
   "source": [
    "%load_ext dotenv\n",
    "%dotenv\n",
    "\n",
    "import os\n",
    "from importlib import reload\n",
    "\n",
    "import pandas as pd\n",
    "\n",
    "from cholera import ceda, lst, outbreaks, precip, sm, xarray_ as xr_\n",
    "\n",
    "# Reload modules to avoid the need to restart the notebook kernel after making\n",
    "# code changes within the modules.\n",
    "reload(lst)\n",
    "reload(precip)\n",
    "reload(sm)\n",
    "reload(xr_)\n",
    "None"
   ]
  },
  {
   "cell_type": "markdown",
   "metadata": {},
   "source": [
    "Convenience function for writing zonal means to an appropriately named CSV file,\n",
    "based upon the environmental parameter variable and the monthly time span\n",
    "covered:"
   ]
  },
  {
   "cell_type": "code",
   "execution_count": null,
   "metadata": {},
   "outputs": [],
   "source": [
    "def zonal_means_to_csv(zonal_means: pd.DataFrame) -> str:\n",
    "    start_year, start_month, _ = zonal_means.index.min()\n",
    "    end_year, end_month, _ = zonal_means.index.max()\n",
    "    path = (\n",
    "        f\"../data/zonal-means-{zonal_means.columns[0]}-\"\n",
    "        f\"{start_year}{start_month:02d}-{end_year}{end_month:02d}.csv\"\n",
    "    )\n",
    "    zonal_means.to_csv(path)\n",
    "\n",
    "    return path"
   ]
  },
  {
   "cell_type": "markdown",
   "metadata": {},
   "source": [
    "If you have registered for a CEDA account, and you have configured your account\n",
    "credentials in your `.env` file, then the following code block will ensure that\n",
    "you have a valid certificate in place to allow you to retrieve LST data via\n",
    "CEDA's OPeNDAP server.\n",
    "\n",
    "However, if you haven't done so, then the cell that computes LST zonal means\n",
    "will simply skip the computation."
   ]
  },
  {
   "cell_type": "code",
   "execution_count": null,
   "metadata": {},
   "outputs": [],
   "source": [
    "username = os.environ.get(\"CEDA_USERNAME\")\n",
    "password = os.environ.get(\"CEDA_PASSWORD\")\n",
    "ceda_cert_expiration = (\n",
    "    ceda.auth(username=username, password=password) if username and password else None\n",
    ")\n",
    "\n",
    "print(\n",
    "    f\"CEDA OPeNDAP certificate is valid through {ceda_cert_expiration.isoformat()} UTC\"\n",
    "    if ceda_cert_expiration\n",
    "    else \"Skipping CEDA auth check since a username and password were not configured\"\n",
    ")"
   ]
  },
  {
   "cell_type": "markdown",
   "metadata": {},
   "source": [
    "Obtain the outbreak region geometries, and compute the monthly time span\n",
    "starting 3 months prior to the start month of the earliest outbreak in our\n",
    "dataset through the start month of the latest outbreak:"
   ]
  },
  {
   "cell_type": "code",
   "execution_count": null,
   "metadata": {},
   "outputs": [],
   "source": [
    "regions = outbreaks.regions()\n",
    "start_months = outbreaks.start_month_range()\n",
    "\n",
    "# Entire monthly range of outbreaks, with a 3-month prelude, and setting the\n",
    "# end date to the end of the month.\n",
    "all_months = slice(\n",
    "    start_months[0] - pd.offsets.MonthBegin(3),\n",
    "    start_months[-1] + pd.offsets.MonthEnd(),\n",
    ")\n",
    "print(all_months)"
   ]
  },
  {
   "cell_type": "markdown",
   "metadata": {},
   "source": [
    "Compute the soil moisture (sm) zonal means and write them to a CSV file:"
   ]
  },
  {
   "cell_type": "code",
   "execution_count": null,
   "metadata": {},
   "outputs": [],
   "source": [
    "sm_zonal_means = sm.zonal_means(regions, time=all_months)\n",
    "sm_csv = zonal_means_to_csv(sm_zonal_means)\n",
    "print(f\"Wrote soil moisture zonal means to {sm_csv}\")\n",
    "sm_zonal_means"
   ]
  },
  {
   "cell_type": "markdown",
   "metadata": {},
   "source": [
    "Compute the precipitation (precip) zonal means and write them to a CSV file:"
   ]
  },
  {
   "cell_type": "code",
   "execution_count": null,
   "metadata": {},
   "outputs": [],
   "source": [
    "precip_zonal_means = precip.zonal_means(regions, time=all_months)\n",
    "precip_csv = zonal_means_to_csv(precip_zonal_means)\n",
    "print(f\"Wrote precipitaton zonal means to {precip_csv}\")\n",
    "precip_zonal_means"
   ]
  },
  {
   "cell_type": "markdown",
   "metadata": {},
   "source": [
    "If you registered a CEDA account, and specified your credentials in your `.env`\n",
    "file, then compute the land surface temperature (LST) zonal means and save them\n",
    "to a CSV file (otherwise, skip the computation).\n",
    "\n",
    "**IMPORTANT:** The CEDA OPeNDAP server appears to be flaky, at least when making\n",
    "many concurrent requests.  Therefore, at the very least, you may see several\n",
    "errors when LST zonal means are computed by the following cell, along with\n",
    "multiple automatic retry attempts.  Sometimes, the retries work, and sometimes\n",
    "they don't.  In the event that the computation ultimately fails, you may have to\n",
    "rerun the cell, possibly multiple times, until the computation succeeds.\n",
    "Further, this computation takes _much_ longer than the computations above --\n",
    "perhaps 20-30 minutes, or even more, depending upon your computer's resources."
   ]
  },
  {
   "cell_type": "code",
   "execution_count": null,
   "metadata": {},
   "outputs": [],
   "source": [
    "if ceda_cert_expiration:\n",
    "    lst_zonal_means = lst.zonal_means(regions, time=all_months)\n",
    "    lst_csv = zonal_means_to_csv(lst_zonal_means)\n",
    "    print(f\"Wrote land surface temperature zonal means to {lst_csv}\")\n",
    "    display(lst_zonal_means)"
   ]
  }
 ],
 "metadata": {
  "kernelspec": {
   "display_name": "Python 3 (ipykernel)",
   "language": "python",
   "name": "python3"
  }
 },
 "nbformat": 4,
 "nbformat_minor": 4
}
