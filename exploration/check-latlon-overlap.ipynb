{
 "cells": [
  {
   "cell_type": "markdown",
   "metadata": {},
   "source": [
    "In order to make sure that the zones for our zonal statistics are consistent, we\n",
    "need to first verify that the lat/long coordinates of each of the LST files are\n",
    "identical.  If they are different, we will need to re-calculate zones for each\n",
    "monthly LST before then calculating the zonal statistics.\n",
    "\n",
    "In the code below we download 3 LST files for the first, middle, and last months\n",
    "of the temporal range in which we're interested.  From what we can tell, the\n",
    "footprints for the lat/long coordinates appear identical."
   ]
  },
  {
   "cell_type": "code",
   "execution_count": null,
   "metadata": {},
   "outputs": [],
   "source": [
    "from cholera import lst, outbreaks, xarray_ as xr_"
   ]
  },
  {
   "cell_type": "code",
   "execution_count": null,
   "metadata": {},
   "outputs": [],
   "source": [
    "regions = outbreaks.regions()\n",
    "regions"
   ]
  },
  {
   "cell_type": "code",
   "execution_count": null,
   "metadata": {},
   "outputs": [],
   "source": [
    "months = outbreaks.start_month_range()\n",
    "first_month, last_month = months[0].date(), months[-1].date()\n",
    "middle_month = months[len(months) // 2].date()\n",
    "\n",
    "print(first_month)\n",
    "print(middle_month)\n",
    "print(last_month)"
   ]
  },
  {
   "cell_type": "code",
   "execution_count": null,
   "metadata": {},
   "outputs": [],
   "source": [
    "lon, lat = xr_.lonlat_indexers(regions)\n",
    "\n",
    "ds1 = lst.dataset(longitude=lon, latitude=lat, time=first_month)\n",
    "ds2 = lst.dataset(longitude=lon, latitude=lat, time=middle_month)\n",
    "ds3 = lst.dataset(longitude=lon, latitude=lat, time=last_month)"
   ]
  },
  {
   "cell_type": "code",
   "execution_count": null,
   "metadata": {},
   "outputs": [],
   "source": [
    "print(all(ds1.lon == ds2.lon))\n",
    "print(all(ds1.lat == ds2.lat))\n",
    "print(all(ds2.lon == ds3.lon))\n",
    "print(all(ds2.lat == ds3.lat))"
   ]
  }
 ],
 "metadata": {
  "kernelspec": {
   "display_name": "geo-ds-cholera",
   "language": "python",
   "name": "python3"
  }
 },
 "nbformat": 4,
 "nbformat_minor": 2
}
