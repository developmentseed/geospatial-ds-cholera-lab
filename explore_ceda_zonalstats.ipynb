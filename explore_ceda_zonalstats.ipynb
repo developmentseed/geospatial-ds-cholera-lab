{
 "cells": [
  {
   "cell_type": "markdown",
   "metadata": {},
   "source": [
    "# Exploring Land Surface Temperature\n",
    "\n",
    "[ESA Land Surface Temperature Climate Change Initiative (LST_cci): Monthly Multisensor Infra-Red (IR) Low Earth Orbit (LEO) land surface temperature (LST) time series level 3 supercollated (L3S) global product (1995-2020), version 2.00](https://catalogue.ceda.ac.uk/uuid/785ef9d3965442669bff899540747e28).\n"
   ]
  },
  {
   "cell_type": "code",
   "execution_count": null,
   "metadata": {},
   "outputs": [],
   "source": [
    "import typing\n",
    "import warnings\n",
    "from datetime import datetime\n",
    "\n",
    "import geopandas as gpd\n",
    "import numpy as np\n",
    "import pooch\n",
    "import pandas as pd\n",
    "import regionmask\n",
    "\n",
    "# rioxarray is not directly referenced, but its `rio` extension of `xarray` is\n",
    "import rioxarray\n",
    "import xarray as xr\n",
    "import xrspatial.zonal\n",
    "from shapely.errors import ShapelyDeprecationWarning\n",
    "\n",
    "warnings.filterwarnings(\"ignore\", category=ShapelyDeprecationWarning)"
   ]
  },
  {
   "cell_type": "markdown",
   "metadata": {},
   "source": [
    "## Fetch and Open Land Surface Temperature Data File\n",
    "\n",
    "Fetch the Land Surface Temperature (LST) data for a specific date from the\n",
    "[Centre for Environmental Data Analysis Archive](https://archive.ceda.ac.uk/)\n",
    "(CEDA Archive), and subset it to Africa's bounding box."
   ]
  },
  {
   "cell_type": "code",
   "execution_count": null,
   "metadata": {},
   "outputs": [],
   "source": [
    "P = typing.ParamSpec(\"P\")\n",
    "\n",
    "\n",
    "def global_lst_file(date: datetime) -> str:\n",
    "    \"\"\"Fetch and cache global land surface temperature data file for a single day.\n",
    "\n",
    "    Return path to locally cached file.\n",
    "    \"\"\"\n",
    "    y = date.year\n",
    "    m = date.month\n",
    "\n",
    "    # Can check status of CEDA core archives at https://stats.uptimerobot.com/vZPgQt7YnO\n",
    "    # Currently `dap` is down.\n",
    "\n",
    "    lst_data_url = (\n",
    "        \"https://dap.ceda.ac.uk/neodc/esacci/land_surface_temperature/data/\"\n",
    "        f\"MULTISENSOR_IRCDR/L3S/0.01/v2.00/monthly/{y}/{m:02d}/\"\n",
    "        f\"ESACCI-LST-L3S-LST-IRCDR_-0.01deg_1MONTHLY_DAY-{y}{m:02d}01000000-fv2.00.nc\"\n",
    "        # Must add `#mode=bytes` to the end.\n",
    "        # See https://github.com/Unidata/netcdf4-python/issues/1043\n",
    "        \"#mode=bytes\"\n",
    "    )\n",
    "\n",
    "    return pooch.retrieve(lst_data_url, None)\n",
    "\n",
    "\n",
    "def open_global_lst_dataset(\n",
    "    date: datetime,\n",
    "    open_dataset: typing.Callable[typing.Concatenate[str, P], xr.Dataset],\n",
    "    *args: P.args,\n",
    "    **kwargs: P.kwargs,\n",
    ") -> xr.Dataset:\n",
    "    \"\"\"Open land surface temperature dataset for a particular day.\n",
    "\n",
    "    Return 2D ``xarray.Dataset`` of the data in CRS EPSG:4326 by calling the\n",
    "    ``open_dataset`` callable with the path to the LST data file for the specified\n",
    "    ``date`` as the first argument, followed by all additional ``args`` and ``kwargs``,\n",
    "    if provided.\n",
    "\n",
    "    Args\n",
    "    ----\n",
    "    date:\n",
    "        desired date (day, excluding time) of LST data\n",
    "    open_dataset:\n",
    "        callable to use to open the dataset (e.g., ``xarray.open_dataset``), which\n",
    "        must accept a source file (``str``) as its first positional argument, and\n",
    "        return an ``xarray.Dataset`` when called\n",
    "    *args:\n",
    "        additional positional arguments (following the path to the LST data file) to\n",
    "        pass to ``open_dataset``\n",
    "    **kwargs:\n",
    "        keyword arguments to pass to ``open_dataset``\n",
    "    \"\"\"\n",
    "    from rioxarray.raster_dataset import RasterDataset\n",
    "\n",
    "    global_lst_ds = open_dataset(global_lst_file(date), *args, **kwargs)\n",
    "    global_lst_rio = typing.cast(RasterDataset, global_lst_ds.rio)\n",
    "\n",
    "    return global_lst_rio.write_crs(\"EPSG:4326\").squeeze(drop=True)"
   ]
  },
  {
   "cell_type": "markdown",
   "metadata": {},
   "source": [
    "## Obtain Geometries for Cholera Outbreak Regions\n",
    "\n",
    "We'll select the outbreaks with an \"admin2\" spatial scale, obtain their distinct \n",
    "regions, and join them with our shapefile to obtain their geometries.\n"
   ]
  },
  {
   "cell_type": "markdown",
   "metadata": {},
   "source": [
    "First, let's read our outbreak data and select all outbreaks in admin2 regions:"
   ]
  },
  {
   "cell_type": "code",
   "execution_count": null,
   "metadata": {},
   "outputs": [],
   "source": [
    "admin2_outbreaks_df = (\n",
    "    pd.read_csv(\"data/outbreak_data.csv\", parse_dates=[\"start_date\", \"end_date\"])\n",
    "    .assign(\n",
    "        start_year=lambda df: df.start_date.dt.year,\n",
    "        start_month=lambda df: df.start_date.dt.month,\n",
    "        duration_in_months=lambda df: np.ceil(\n",
    "            (df.end_date - df.start_date) / np.timedelta64(1, \"M\")\n",
    "        ).astype(int),\n",
    "    )\n",
    "    .query(\"spatial_scale == 'admin2'\")\n",
    ")\n",
    "\n",
    "admin2_outbreaks_df"
   ]
  },
  {
   "cell_type": "markdown",
   "metadata": {},
   "source": [
    "Select the distinct location period IDs, so we can select their geometries from\n",
    "our shapefile:"
   ]
  },
  {
   "cell_type": "code",
   "execution_count": null,
   "metadata": {},
   "outputs": [],
   "source": [
    "admin2_location_period_id_df = admin2_outbreaks_df[\n",
    "    [\"location_period_id\"]\n",
    "].drop_duplicates()\n",
    "\n",
    "admin2_location_period_id_df"
   ]
  },
  {
   "cell_type": "markdown",
   "metadata": {},
   "source": [
    "Read our shapefile:"
   ]
  },
  {
   "cell_type": "code",
   "execution_count": null,
   "metadata": {},
   "outputs": [],
   "source": [
    "location_period_id_gdf = gpd.read_file(\n",
    "    \"data/AfricaShapefiles/total_shp_0427.shp\"\n",
    ").rename(columns={\"lctn_pr\": \"location_period_id\"})\n",
    "\n",
    "location_period_id_gdf"
   ]
  },
  {
   "cell_type": "markdown",
   "metadata": {},
   "source": [
    "Merge our distinct location period IDs with the shapefile to obtain the\n",
    "geometries for only our distinct admin2 outbreak regions:"
   ]
  },
  {
   "cell_type": "code",
   "execution_count": null,
   "metadata": {},
   "outputs": [],
   "source": [
    "admin2_gdf = typing.cast(\n",
    "    gpd.GeoDataFrame,\n",
    "    location_period_id_gdf.merge(\n",
    "        admin2_location_period_id_df,\n",
    "        how=\"inner\",\n",
    "        on=\"location_period_id\",\n",
    "    ),\n",
    ")\n",
    "\n",
    "admin2_gdf"
   ]
  },
  {
   "cell_type": "code",
   "execution_count": null,
   "metadata": {},
   "outputs": [],
   "source": [
    "display(admin2_gdf.geometry[0])\n",
    "display(admin2_gdf.geometry[1])"
   ]
  },
  {
   "cell_type": "code",
   "execution_count": null,
   "metadata": {},
   "outputs": [],
   "source": [
    "admin2_outbreaks_df.query(\"location_period_id in [4754, 8540]\")"
   ]
  },
  {
   "cell_type": "code",
   "execution_count": null,
   "metadata": {},
   "outputs": [],
   "source": [
    "display(admin2_gdf.crs)\n",
    "admin2_gdf.boundary.plot()"
   ]
  },
  {
   "cell_type": "code",
   "execution_count": null,
   "metadata": {},
   "outputs": [],
   "source": [
    "# If you want to look at the entire continent, and compute zonal stats for it,\n",
    "# uncomment the lines below, which will reassign admin2_gdf to all admin2\n",
    "# regions in Africa, instead of only the admin2 regions from our outbreak data.\n",
    "\n",
    "# admin2_gdf = typing.cast(\n",
    "#     gpd.GeoDataFrame,\n",
    "#     gpd.read_file(\n",
    "#         pooch.retrieve(\n",
    "#             \"https://geoportal.icpac.net/geoserver/ows?service=WFS\"\n",
    "#             \"&version=1.0.0\"\n",
    "#             \"&request=GetFeature\"\n",
    "#             \"&typename=geonode%3Aafr_g2014_2013_2\"\n",
    "#             \"&outputFormat=json\"\n",
    "#             \"&srs=EPSG%3A4326\"\n",
    "#             \"&srsName=EPSG%3A4326\",\n",
    "#             None,\n",
    "#         )\n",
    "#     ),\n",
    "# )\n",
    "\n",
    "# display(admin2_gdf)\n",
    "# display(admin2_gdf.crs)\n",
    "\n",
    "# admin2_gdf.boundary.plot()"
   ]
  },
  {
   "cell_type": "markdown",
   "metadata": {},
   "source": [
    "## Compute Zonal Mean Land Surface Temperatures\n",
    "\n",
    "Compute zones so we can compute zonal statistics.\n",
    "\n",
    "**WARNING:** This takes several minutes to compute!"
   ]
  },
  {
   "cell_type": "markdown",
   "metadata": {},
   "source": [
    "Pick a date for land surface temperatures:"
   ]
  },
  {
   "cell_type": "code",
   "execution_count": null,
   "metadata": {},
   "outputs": [],
   "source": [
    "# Arbitrarily using day 1 of month, because only year and month matter, but day\n",
    "# is a required argument.\n",
    "lst_date = datetime(2020, 11, 1)"
   ]
  },
  {
   "cell_type": "markdown",
   "metadata": {},
   "source": [
    "Read land surface temperatures for a specific date using `xarray`:\n"
   ]
  },
  {
   "cell_type": "code",
   "execution_count": null,
   "metadata": {},
   "outputs": [],
   "source": [
    "global_ds = open_global_lst_dataset(lst_date, xr.open_dataset)\n",
    "global_ds"
   ]
  },
  {
   "cell_type": "markdown",
   "metadata": {},
   "source": [
    "Select only the data for our area of interest:"
   ]
  },
  {
   "cell_type": "code",
   "execution_count": null,
   "metadata": {},
   "outputs": [],
   "source": [
    "minx, miny, maxx, maxy = admin2_gdf.total_bounds\n",
    "\n",
    "africa_ds = global_ds.sel(\n",
    "    lon=slice(minx, maxx),\n",
    "    lat=slice(miny, maxy),\n",
    ")\n",
    "\n",
    "africa_ds"
   ]
  },
  {
   "cell_type": "markdown",
   "metadata": {},
   "source": [
    "Extract the `lst` data variable, convert from Kelvin to Celsius, and plot:"
   ]
  },
  {
   "cell_type": "code",
   "execution_count": null,
   "metadata": {},
   "outputs": [],
   "source": [
    "africa_lst_celsius_da = africa_ds.lst - 273.15\n",
    "africa_lst_celsius_da.plot(cmap=\"coolwarm\")"
   ]
  },
  {
   "cell_type": "code",
   "execution_count": null,
   "metadata": {},
   "outputs": [],
   "source": [
    "zones_da = typing.cast(\n",
    "    xr.DataArray,\n",
    "    regionmask.mask_geopandas(\n",
    "        admin2_gdf,\n",
    "        africa_ds.lon,\n",
    "        africa_ds.lat,\n",
    "    ),\n",
    ")\n",
    "\n",
    "zones_da"
   ]
  },
  {
   "cell_type": "code",
   "execution_count": null,
   "metadata": {},
   "outputs": [],
   "source": [
    "zones_da.values[~np.isnan(zones_da.values)].min()"
   ]
  },
  {
   "cell_type": "code",
   "execution_count": null,
   "metadata": {},
   "outputs": [],
   "source": [
    "zones_da.plot()  # type: ignore"
   ]
  },
  {
   "cell_type": "markdown",
   "metadata": {},
   "source": [
    "Compute zonal means for LST:"
   ]
  },
  {
   "cell_type": "code",
   "execution_count": null,
   "metadata": {},
   "outputs": [],
   "source": [
    "pd.set_option(\"display.max_rows\", None)\n",
    "\n",
    "mean_lst_df: pd.DataFrame = (\n",
    "    xrspatial.zonal.stats(zones_da, africa_lst_celsius_da, stats_funcs=[\"mean\"])\n",
    "    .set_index(\"zone\")  # type: ignore\n",
    "    .rename(columns={\"mean\": \"mean_lst\"})  # type: ignore\n",
    ")\n",
    "mean_lst_df"
   ]
  },
  {
   "cell_type": "markdown",
   "metadata": {},
   "source": [
    "Join the means to the geometries and plot the zonal means.  Note that for some\n",
    "reason, there are 6212 means, but 6226 geometries (`africa_admin2_gdf`), so we\n",
    "had to set `\"zone\"` as the index on `means_df` so the values are correctly\n",
    "aligned:"
   ]
  },
  {
   "cell_type": "code",
   "execution_count": null,
   "metadata": {},
   "outputs": [],
   "source": [
    "mean_lst_gdf = admin2_gdf.join(mean_lst_df, how=\"inner\").dropna()\n",
    "mean_lst_gdf"
   ]
  },
  {
   "cell_type": "markdown",
   "metadata": {},
   "source": [
    "Looking at the total number of zones below, we see that 479 of the 494 districts contain LST data for this month as `.dropna()` has removed those zones without any mean LST data for that month. "
   ]
  },
  {
   "cell_type": "code",
   "execution_count": null,
   "metadata": {},
   "outputs": [],
   "source": [
    "len(mean_lst_df)"
   ]
  },
  {
   "cell_type": "code",
   "execution_count": null,
   "metadata": {},
   "outputs": [],
   "source": [
    "mean_lst_gdf.plot(\"mean_lst\", cmap=\"coolwarm\", legend=True)  # type: ignore"
   ]
  },
  {
   "cell_type": "markdown",
   "metadata": {},
   "source": [
    "Overlaying our district boundaries over our mean monthly LST data, we can identify (visually) those districts where data is missing. "
   ]
  },
  {
   "cell_type": "code",
   "execution_count": null,
   "metadata": {},
   "outputs": [],
   "source": [
    "ax = admin2_gdf.boundary.plot(alpha=0.15, color=\"black\")\n",
    "mean_lst_gdf.plot(\"mean_lst\", ax=ax, zorder=-1, cmap=\"coolwarm\", legend=True)"
   ]
  }
 ],
 "metadata": {
  "kernelspec": {
   "display_name": "Python 3 (ipykernel)",
   "language": "python",
   "name": "python3"
  }
 },
 "nbformat": 4,
 "nbformat_minor": 2
}
