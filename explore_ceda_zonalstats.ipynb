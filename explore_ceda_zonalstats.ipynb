{
 "cells": [
  {
   "cell_type": "markdown",
   "metadata": {},
   "source": [
    "# Exploring Land Surface Temperature\n",
    "\n",
    "[ESA Land Surface Temperature Climate Change Initiative (LST_cci): Monthly Multisensor Infra-Red (IR) Low Earth Orbit (LEO) land surface temperature (LST) time series level 3 supercollated (L3S) global product (1995-2020), version 2.00](https://catalogue.ceda.ac.uk/uuid/785ef9d3965442669bff899540747e28).\n"
   ]
  },
  {
   "cell_type": "code",
   "execution_count": null,
   "metadata": {},
   "outputs": [],
   "source": [
    "import typing\n",
    "import warnings\n",
    "\n",
    "import geopandas as gpd\n",
    "import numpy as np\n",
    "import pandas as pd\n",
    "import regionmask\n",
    "\n",
    "# rioxarray is not directly referenced, but its `rio` extension of `xarray` is\n",
    "import rioxarray\n",
    "import shapely\n",
    "import xarray as xr\n",
    "import xrspatial.zonal\n",
    "from shapely.errors import ShapelyDeprecationWarning\n",
    "\n",
    "warnings.filterwarnings(\"ignore\", category=ShapelyDeprecationWarning)"
   ]
  },
  {
   "cell_type": "markdown",
   "metadata": {},
   "source": [
    "## Obtain Geometries for Cholera Outbreak Regions"
   ]
  },
  {
   "cell_type": "markdown",
   "metadata": {},
   "source": [
    "First, let's read our outbreak data and select all outbreaks in admin2 regions:\n"
   ]
  },
  {
   "cell_type": "code",
   "execution_count": null,
   "metadata": {},
   "outputs": [],
   "source": [
    "admin2_outbreaks_df = (\n",
    "    pd.read_csv(\"data/outbreak_data.csv\", parse_dates=[\"start_date\", \"end_date\"])\n",
    "    .assign(\n",
    "        start_year=lambda df: df.start_date.dt.year,\n",
    "        start_month=lambda df: df.start_date.dt.month,\n",
    "        duration_in_months=lambda df: np.ceil(\n",
    "            (df.end_date - df.start_date) / np.timedelta64(1, \"M\")\n",
    "        ).astype(int),\n",
    "    )\n",
    "    .query(\"spatial_scale == 'admin2'\")\n",
    ")\n",
    "\n",
    "admin2_outbreaks_df"
   ]
  },
  {
   "cell_type": "markdown",
   "metadata": {},
   "source": [
    "Select the distinct location period IDs, so we can select their geometries from\n",
    "our shapefile:\n"
   ]
  },
  {
   "cell_type": "code",
   "execution_count": null,
   "metadata": {},
   "outputs": [],
   "source": [
    "admin2_location_period_id_df = admin2_outbreaks_df[\n",
    "    [\"location_period_id\"]\n",
    "].drop_duplicates()\n",
    "\n",
    "admin2_location_period_id_df"
   ]
  },
  {
   "cell_type": "markdown",
   "metadata": {},
   "source": [
    "Read our shapefile:\n"
   ]
  },
  {
   "cell_type": "code",
   "execution_count": null,
   "metadata": {},
   "outputs": [],
   "source": [
    "location_period_id_gdf = typing.cast(\n",
    "    gpd.GeoDataFrame,\n",
    "    gpd.read_file(\"data/AfricaShapefiles/total_shp_0427.shp\").rename(\n",
    "        columns={\"lctn_pr\": \"location_period_id\"}\n",
    "    ),\n",
    ")\n",
    "\n",
    "location_period_id_gdf"
   ]
  },
  {
   "cell_type": "markdown",
   "metadata": {},
   "source": [
    "Merge our distinct location period IDs with the shapefile to obtain the\n",
    "geometries for only our distinct admin2 outbreak regions:\n"
   ]
  },
  {
   "cell_type": "code",
   "execution_count": null,
   "metadata": {},
   "outputs": [],
   "source": [
    "admin2_gdf = typing.cast(\n",
    "    gpd.GeoDataFrame,\n",
    "    location_period_id_gdf.merge(\n",
    "        admin2_location_period_id_df,\n",
    "        how=\"inner\",\n",
    "        on=\"location_period_id\",\n",
    "    ).drop_duplicates(\"geometry\", keep=False),\n",
    ")\n",
    "\n",
    "# intersecting_areas = (\n",
    "#     typing.cast(\n",
    "#         pd.DataFrame,\n",
    "#         admin2_gdf.apply(\n",
    "#             lambda row: pd.Series(\n",
    "#                 [\n",
    "#                     area := shapely.area(row.geometry),\n",
    "#                     max_intersecting_area := admin2_gdf.geometry.drop(row.name)\n",
    "#                     .intersection(row.geometry)\n",
    "#                     .apply(shapely.area)\n",
    "#                     .max(),\n",
    "#                     100.0 * max_intersecting_area / area,\n",
    "#                 ],\n",
    "#                 index=[\"area\", \"max_intersecting_area\", \"percent_intersecting_area\"],\n",
    "#             ),\n",
    "#             axis=1,\n",
    "#         ),\n",
    "#     )\n",
    "#     .query(\"percent_intersecting_area > 0\")\n",
    "#     .sort_values(\"percent_intersecting_area\", ascending=True)\n",
    "# )\n",
    "\n",
    "# display(intersecting_areas)\n",
    "# admin2_gdf = admin2_gdf.drop(intersecting_areas.index)\n",
    "\n",
    "admin2_gdf"
   ]
  },
  {
   "cell_type": "code",
   "execution_count": null,
   "metadata": {},
   "outputs": [],
   "source": [
    "display(admin2_gdf.crs)\n",
    "admin2_gdf.boundary.plot(linewidth=0.2)"
   ]
  },
  {
   "cell_type": "code",
   "execution_count": null,
   "metadata": {},
   "outputs": [],
   "source": [
    "# If you want to look at the entire continent, and compute zonal stats for it,\n",
    "# uncomment the lines below, which will reassign admin2_gdf to all admin2\n",
    "# regions in Africa, instead of only the admin2 regions from our outbreak data.\n",
    "\n",
    "# import pooch\n",
    "#\n",
    "# admin2_gdf = typing.cast(\n",
    "#     gpd.GeoDataFrame,\n",
    "#     gpd.read_file(\n",
    "#         pooch.retrieve(\n",
    "#             \"https://geoportal.icpac.net/geoserver/ows?service=WFS\"\n",
    "#             \"&version=1.0.0\"\n",
    "#             \"&request=GetFeature\"\n",
    "#             \"&typename=geonode%3Aafr_g2014_2013_2\"\n",
    "#             \"&outputFormat=json\"\n",
    "#             \"&srs=EPSG%3A4326\"\n",
    "#             \"&srsName=EPSG%3A4326\",\n",
    "#             None,\n",
    "#         )\n",
    "#     ),\n",
    "# )\n",
    "\n",
    "# display(admin2_gdf)\n",
    "# display(admin2_gdf.crs)\n",
    "\n",
    "# admin2_gdf.boundary.plot()"
   ]
  },
  {
   "cell_type": "markdown",
   "metadata": {},
   "source": [
    "## Compute Zonal Mean Land Surface Temperatures\n",
    "\n",
    "Compute zones so we can compute zonal statistics.\n",
    "\n",
    "**WARNING:** This takes several minutes to compute!\n"
   ]
  },
  {
   "cell_type": "markdown",
   "metadata": {},
   "source": [
    "Fetch the Land Surface Temperature (LST) data for a specific date from the\n",
    "[Centre for Environmental Data Analysis Archive](https://archive.ceda.ac.uk/)\n",
    "(CEDA Archive), and subset it to Africa's bounding box.\n"
   ]
  },
  {
   "cell_type": "code",
   "execution_count": null,
   "metadata": {},
   "outputs": [],
   "source": [
    "def global_lst_url(*, year: int, month: int) -> str:\n",
    "    \"\"\"Return the URL for the global average Land Surface Temperature data file\n",
    "    for a specific year and month.\"\"\"\n",
    "\n",
    "    # Can check status of CEDA core archives at https://stats.uptimerobot.com/vZPgQt7YnO\n",
    "    # Currently `dap` is down.\n",
    "\n",
    "    return (\n",
    "        \"https://dap.ceda.ac.uk/neodc/esacci/land_surface_temperature/data/\"\n",
    "        f\"MULTISENSOR_IRCDR/L3S/0.01/v2.00/monthly/{year}/{month:02d}/\"\n",
    "        f\"ESACCI-LST-L3S-LST-IRCDR_-0.01deg_1MONTHLY_DAY-{year}{month:02d}01000000-fv2.00.nc\"\n",
    "        # Must add `#mode=bytes` to the end.\n",
    "        # See https://github.com/Unidata/netcdf4-python/issues/1043\n",
    "        \"#mode=bytes\"\n",
    "    )\n",
    "\n",
    "    # return pooch.retrieve(lst_data_url, None)"
   ]
  },
  {
   "cell_type": "markdown",
   "metadata": {},
   "source": [
    "Read land surface temperatures for a specific date using `xarray`:\n"
   ]
  },
  {
   "cell_type": "code",
   "execution_count": null,
   "metadata": {},
   "outputs": [],
   "source": [
    "minx, miny, maxx, maxy = admin2_gdf.total_bounds\n",
    "\n",
    "with xr.open_dataset(global_lst_url(year=2020, month=11)) as ds:\n",
    "    africa_ds = (\n",
    "        ds.drop_dims(\"channel\")\n",
    "        .sel(\n",
    "            lon=slice(minx, maxx),\n",
    "            lat=slice(miny, maxy),\n",
    "        )\n",
    "        .squeeze(drop=True)\n",
    "        .rio.write_crs(\"EPSG:4326\")\n",
    "    )\n",
    "\n",
    "africa_ds"
   ]
  },
  {
   "cell_type": "markdown",
   "metadata": {},
   "source": [
    "Extract the `lst` data variable, convert from Kelvin to Celsius, and plot:\n"
   ]
  },
  {
   "cell_type": "code",
   "execution_count": null,
   "metadata": {},
   "outputs": [],
   "source": [
    "zones_da = typing.cast(\n",
    "    xr.DataArray,\n",
    "    regionmask.mask_geopandas(\n",
    "        admin2_gdf,\n",
    "        africa_ds.lon,\n",
    "        africa_ds.lat,\n",
    "    ),\n",
    ")\n",
    "\n",
    "zones_da"
   ]
  },
  {
   "cell_type": "code",
   "execution_count": null,
   "metadata": {},
   "outputs": [],
   "source": [
    "len(np.unique(zones_da.values[~np.isnan(zones_da.values)]))"
   ]
  },
  {
   "cell_type": "code",
   "execution_count": null,
   "metadata": {},
   "outputs": [],
   "source": [
    "zones_da.plot()  # type: ignore"
   ]
  },
  {
   "cell_type": "markdown",
   "metadata": {},
   "source": [
    "Compute zonal means for LST:\n"
   ]
  },
  {
   "cell_type": "code",
   "execution_count": null,
   "metadata": {},
   "outputs": [],
   "source": [
    "africa_lst_celsius_da = africa_ds.lst - 273.15\n",
    "# africa_lst_celsius_da.plot(cmap=\"coolwarm\")\n",
    "africa_lst_celsius_da"
   ]
  },
  {
   "cell_type": "code",
   "execution_count": null,
   "metadata": {},
   "outputs": [],
   "source": [
    "mean_lst_df: pd.DataFrame = (\n",
    "    xrspatial.zonal.stats(\n",
    "        zones_da,\n",
    "        africa_lst_celsius_da,\n",
    "        stats_funcs=[\"mean\"],\n",
    "        nodata_values=-1,\n",
    "    )\n",
    "    .set_index(\"zone\")  # type: ignore\n",
    "    .rename(columns={\"mean\": \"mean_lst\"})  # type: ignore\n",
    ")\n",
    "\n",
    "mean_lst_df"
   ]
  },
  {
   "cell_type": "markdown",
   "metadata": {},
   "source": [
    "Join the means to the geometries and plot the zonal means. Note that for some\n",
    "reason, there are fewer zones than geometries (`admin2_gdf`), so we had to set\n",
    "`\"zone\"` as the index on the means DataFrame so the values are correctly\n",
    "aligned:\n"
   ]
  },
  {
   "cell_type": "code",
   "execution_count": null,
   "metadata": {},
   "outputs": [],
   "source": [
    "mean_lst_gdf = admin2_gdf.join(mean_lst_df, how=\"inner\").dropna()\n",
    "mean_lst_gdf"
   ]
  },
  {
   "cell_type": "code",
   "execution_count": null,
   "metadata": {},
   "outputs": [],
   "source": [
    "mean_lst_gdf.plot(\"mean_lst\", cmap=\"coolwarm\", legend=True)  # type: ignore"
   ]
  },
  {
   "cell_type": "markdown",
   "metadata": {},
   "source": [
    "Overlaying our district boundaries over our mean monthly LST data, we can identify (visually) those districts where data is missing.\n"
   ]
  },
  {
   "cell_type": "code",
   "execution_count": null,
   "metadata": {},
   "outputs": [],
   "source": [
    "ax = admin2_gdf.boundary.plot(alpha=0.15, color=\"black\")\n",
    "mean_lst_gdf.plot(\"mean_lst\", ax=ax, zorder=-1, cmap=\"coolwarm\", legend=True)"
   ]
  }
 ],
 "metadata": {
  "kernelspec": {
   "display_name": "Python 3 (ipykernel)",
   "language": "python",
   "name": "python3"
  }
 },
 "nbformat": 4,
 "nbformat_minor": 2
}
