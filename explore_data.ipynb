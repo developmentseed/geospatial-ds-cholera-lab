{
 "cells": [
  {
   "cell_type": "code",
   "execution_count": null,
   "metadata": {},
   "outputs": [],
   "source": [
    "import pandas as pd\n",
    "import pycountry\n",
    "import folium\n",
    "import folium.map\n",
    "from folium.plugins import TimeSliderChoropleth\n",
    "import geopandas as gpd\n",
    "import plotly.express as px\n",
    "from fuzzywuzzy import process"
   ]
  },
  {
   "attachments": {},
   "cell_type": "markdown",
   "metadata": {},
   "source": [
    "Let's begin by reading our outbreak data and creating a dataframe."
   ]
  },
  {
   "cell_type": "code",
   "execution_count": null,
   "metadata": {},
   "outputs": [],
   "source": [
    "outbreak_data_df = pd.read_csv(\"data/outbreak_data.csv\")\n",
    "pd.set_option(\"display.max_columns\", None)\n",
    "outbreak_data_df.columns"
   ]
  },
  {
   "attachments": {},
   "cell_type": "markdown",
   "metadata": {},
   "source": [
    "Taking a look at the value counts of our spatial_scale column, it's clear that administrative level 2 yields the largest count. This is helpful in helping us determine the granulity of our data exploration."
   ]
  },
  {
   "cell_type": "code",
   "execution_count": null,
   "metadata": {},
   "outputs": [],
   "source": [
    "outbreak_data_df[\"spatial_scale\"].value_counts()"
   ]
  },
  {
   "cell_type": "code",
   "execution_count": null,
   "metadata": {},
   "outputs": [],
   "source": [
    "admin2_rows_df = outbreak_data_df[outbreak_data_df[\"spatial_scale\"] == \"admin2\"]\n",
    "admin2_rows_df"
   ]
  },
  {
   "attachments": {},
   "cell_type": "markdown",
   "metadata": {},
   "source": [
    "ADM0 - Country\n",
    "ADM1 - Province/State\n",
    "ADM2 - District/Region\n",
    "ADM3 - Local Governemtn/Area Councils\n",
    "ADM4 - Ward/Village"
   ]
  },
  {
   "attachments": {},
   "cell_type": "markdown",
   "metadata": {},
   "source": [
    "Using the outbreak_data_df DataFrame, I am creating a location DataFrame by splitting the 'location' string. "
   ]
  },
  {
   "cell_type": "code",
   "execution_count": null,
   "metadata": {},
   "outputs": [],
   "source": [
    "location_df = admin2_rows_df[\"location\"].str.split(\"::\", expand=True)\n",
    "column_names = [\"Continent\", \"ISO3\", \"admin1\", \"admin2\"]\n",
    "location_df.columns = column_names\n",
    "location_df"
   ]
  },
  {
   "attachments": {},
   "cell_type": "markdown",
   "metadata": {},
   "source": [
    "Using the pycountry package, I am creating a DataFrame of the countries that match the values of the location_df['ADM2'] column."
   ]
  },
  {
   "cell_type": "code",
   "execution_count": null,
   "metadata": {},
   "outputs": [],
   "source": [
    "fuzzy_countries_data = []\n",
    "adm0 = location_df[\"ISO3\"].values\n",
    "for country in adm0:\n",
    "    fuzzy_search = pycountry.countries.search_fuzzy(country)[0]\n",
    "    fuzzy_countries_data.append(\n",
    "        {\n",
    "            \"ADM0\": country,\n",
    "            \"Country\": fuzzy_search.name,\n",
    "            \"ISO3\": fuzzy_search.alpha_3,\n",
    "        }\n",
    "    )\n",
    "fuzzy_countries_df = pd.DataFrame(fuzzy_countries_data)\n",
    "fuzzy_countries_df"
   ]
  },
  {
   "attachments": {},
   "cell_type": "markdown",
   "metadata": {},
   "source": [
    "Using the pycountry.subdivisions data, I am creating a new DataFrame that I can to extract the ADM2 Names, the country, and its corresponding code."
   ]
  },
  {
   "cell_type": "code",
   "execution_count": null,
   "metadata": {},
   "outputs": [],
   "source": [
    "subdivisions = pycountry.subdivisions\n",
    "\n",
    "# Create a list to store subdivision data\n",
    "subdivision_data = []\n",
    "\n",
    "# Iterate over subdivisions and extract relevant information\n",
    "for subdivision in subdivisions:\n",
    "    subdivision_data.append(\n",
    "        {\n",
    "            \"ADM2 Name\": subdivision.name,\n",
    "            \"Code\": subdivision.code,\n",
    "            \"Country\": subdivision.country.name,\n",
    "            \"Country Code\": subdivision.country.alpha_2,\n",
    "            \"Type\": subdivision.type,\n",
    "        }\n",
    "    )\n",
    "\n",
    "# Create a DataFrame from the subdivision data\n",
    "subdivision_df = pd.DataFrame(subdivision_data)\n",
    "subdivision_df"
   ]
  },
  {
   "attachments": {},
   "cell_type": "markdown",
   "metadata": {},
   "source": [
    "Let's cross reference the country info using the CountryInfo package"
   ]
  },
  {
   "cell_type": "code",
   "execution_count": null,
   "metadata": {},
   "outputs": [],
   "source": [
    "from countryinfo import CountryInfo\n",
    "\n",
    "provinces = CountryInfo(\"Democratic Republic of the Congo\").provinces()\n",
    "provinces"
   ]
  },
  {
   "cell_type": "code",
   "execution_count": null,
   "metadata": {},
   "outputs": [],
   "source": [
    "# to group by year and month, we'll focus on the extract the year value from the 'start_date'\n",
    "outbreak_data_df[\"s_Date\"] = pd.to_datetime(\n",
    "    outbreak_data_df[\"start_date\"], format=\"%m/%d/%Y\"\n",
    ")\n",
    "outbreak_data_df[\"e_Date\"] = pd.to_datetime(\n",
    "    outbreak_data_df[\"end_date\"], format=\"%m/%d/%Y\"\n",
    ")\n",
    "outbreak_data_df[\"s_month\"] = outbreak_data_df[\"s_Date\"].dt.month\n",
    "outbreak_data_df[\"s_year\"] = outbreak_data_df[\"s_Date\"].dt.year\n",
    "outbreak_data_df"
   ]
  },
  {
   "cell_type": "code",
   "execution_count": null,
   "metadata": {},
   "outputs": [],
   "source": [
    "adm2 = location_df[\"admin2\"]\n",
    "adm2_list = []\n",
    "for adm2 in adm2:\n",
    "    adm2_list.append(adm2.title())\n",
    "fuzzy_countries_df[\"ADM2\"] = adm2_list\n",
    "fuzzy_countries_df"
   ]
  },
  {
   "cell_type": "code",
   "execution_count": null,
   "metadata": {},
   "outputs": [],
   "source": [
    "import requests\n",
    "import zipfile\n",
    "import io\n",
    "\n",
    "gadm_url_prefix = \"https://geodata.ucdavis.edu/gadm/gadm4.1/json/\"\n",
    "\n",
    "\n",
    "def get_gadm_data(url: str):\n",
    "    response = requests.get(url)\n",
    "\n",
    "    if response.status_code == 200:\n",
    "        # Successful response\n",
    "        path = \"./data/geojson/\"\n",
    "        with zipfile.ZipFile(io.BytesIO(response.content)) as zip_file:\n",
    "            zip_file.extractall(path)\n",
    "\n",
    "    else:\n",
    "        # Unsuccessful response\n",
    "        print(\"Error: Failed to download data from URL:\", url)\n",
    "\n",
    "\n",
    "url_suffix = f'gadm41_{fuzzy_countries_df[\"ISO3\"][2]}_2.json.zip'\n",
    "print(gadm_url_prefix + url_suffix)\n",
    "get_gadm_data(gadm_url_prefix + url_suffix)\n",
    "\n",
    "\n",
    "def build_suffix(country: str) -> str:\n",
    "    return f\"gadm41_{country}_2.json.zip\""
   ]
  },
  {
   "cell_type": "code",
   "execution_count": null,
   "metadata": {},
   "outputs": [],
   "source": [
    "import json\n",
    "\n",
    "countries = fuzzy_countries_df[\"ISO3\"].unique()\n",
    "files = []\n",
    "for index, country in enumerate(countries):\n",
    "    suffix = build_suffix(country)\n",
    "    url = gadm_url_prefix + suffix\n",
    "    file_path = get_gadm_data(url)\n",
    "    path_prefix = \"/data/geojson/\"\n",
    "    files.append(f\"gadm41_{country}_2.json\")\n",
    "\n",
    "files\n",
    "feature_collection = []\n",
    "for file_path in files:\n",
    "    with open(f\"./data/geojson/{file_path}\", \"r\") as file:\n",
    "        # Load the contents of the file into a Python data structure\n",
    "        data = json.load(file)\n",
    "        feature_collection = feature_collection.append(\n",
    "            FeatureCollection.parse_raw(data)\n",
    "        )\n",
    "        admin2_gdf = gpd.GeoDataFrame.from_features(data).rename(\n",
    "            {\"GID_0\": \"ISO3\"}, axis=1\n",
    "        )\n",
    "admin2_gdf"
   ]
  },
  {
   "cell_type": "code",
   "execution_count": null,
   "metadata": {},
   "outputs": [],
   "source": [
    "subdivison_matches = []\n",
    "\n",
    "\n",
    "def admin2_match(df_row):\n",
    "    iso3, admin2 = df_row.loc[[\"ISO3\", \"admin2\"]]\n",
    "    choices = admin2_gdf.query(f\"ISO3 == '{iso3}'\")[\"NAME_2\"]\n",
    "    name_2, *_ = process.extractOne(admin2, choices, score_cutoff=70) or (None,)\n",
    "\n",
    "    return pd.concat([df_row, pd.Series({\"NAME_2\": name_2})])\n",
    "\n",
    "\n",
    "matched_admin2s_df = (\n",
    "    location_df.drop_duplicates()\n",
    "    .sort_values([\"ISO3\", \"admin2\"])\n",
    "    .apply(admin2_match, axis=1)\n",
    ")\n",
    "\n",
    "matched_admin2s_df.to_csv(\"matched_admin2s.csv\", index=False)\n",
    "matched_admin2s_df"
   ]
  },
  {
   "cell_type": "code",
   "execution_count": null,
   "metadata": {},
   "outputs": [],
   "source": [
    "cholera_df_combined = pd.concat([outbreak_data_df, fuzzy_countries_df], axis=1)\n",
    "cholera_df_combined"
   ]
  },
  {
   "cell_type": "code",
   "execution_count": null,
   "metadata": {},
   "outputs": [],
   "source": [
    "cholera_df_combined[\"outbreak_number\"].unique()"
   ]
  },
  {
   "cell_type": "code",
   "execution_count": null,
   "metadata": {},
   "outputs": [],
   "source": [
    "repeated_outbreaks = cholera_df_combined.groupby([\"s_year\", \"ISO3\"]).max()[\n",
    "    \"outbreak_number\"\n",
    "]\n",
    "repeated_outbreaks"
   ]
  },
  {
   "cell_type": "code",
   "execution_count": null,
   "metadata": {},
   "outputs": [],
   "source": [
    "yearly_cases = (\n",
    "    cholera_df_combined.groupby([\"s_year\", \"ISO3\", \"ADM2\"])\n",
    "    .sum(numeric_only=True)[\"total_suspected_cases\"]\n",
    "    .reset_index()\n",
    ")\n",
    "yearly_cases.info()"
   ]
  },
  {
   "cell_type": "code",
   "execution_count": null,
   "metadata": {},
   "outputs": [],
   "source": [
    "merged_df = pd.merge(cholera_df_combined, yearly_cases, on=\"ISO3\")\n",
    "merged_df"
   ]
  },
  {
   "cell_type": "code",
   "execution_count": null,
   "metadata": {},
   "outputs": [],
   "source": [
    "yearly_snapshot = px.choropleth(\n",
    "    yearly_cases,\n",
    "    locations=\"ISO3\",\n",
    "    color=\"total_suspected_cases\",\n",
    "    hover_name=\"ISO3\",\n",
    "    color_continuous_scale=px.colors.sequential.Plasma,\n",
    "    animation_frame=\"s_year\",\n",
    "    animation_group=\"ISO3\",\n",
    "    range_color=[0, 100000],\n",
    ")\n",
    "\n",
    "yearly_snapshot.update_geos(scope=\"africa\")\n",
    "\n",
    "yearly_snapshot.show()"
   ]
  },
  {
   "cell_type": "code",
   "execution_count": null,
   "metadata": {},
   "outputs": [],
   "source": [
    "def africa_map():\n",
    "    return folium.Map(\n",
    "        location=[-4.61216, 23.32187],\n",
    "        tiles=\"Stamen Terrain\",\n",
    "        zoom_start=2,\n",
    "        scroll_wheel_zoom=False,\n",
    "    )"
   ]
  },
  {
   "cell_type": "code",
   "execution_count": null,
   "metadata": {},
   "outputs": [],
   "source": [
    "m = africa_map()\n",
    "folium.TileLayer(\"Stamen Terrain\", overlay=True, name=\"Stamen Terrain\").add_to(m)"
   ]
  },
  {
   "cell_type": "code",
   "execution_count": null,
   "metadata": {},
   "outputs": [],
   "source": [
    "benin_geodata = gpd.read_file(\n",
    "    \"/Users/jennifertran/Code/ds/geospatial-ds-cholera-lab/data/geojson/gadm41_BEN_2.json\"\n",
    ")\n",
    "geo_data = (\n",
    "    gpd.GeoSeries(benin_geodata.set_index(\"NAME_1\")[\"geometry\"]).to_json(indent=2),\n",
    ")\n",
    "geo_data"
   ]
  },
  {
   "cell_type": "code",
   "execution_count": null,
   "metadata": {},
   "outputs": [],
   "source": [
    "counties = cholera_df_combined.loc[cholera_df_combined[\"ISO3\"] == \"BEN\", \"ADM2\"]\n",
    "counties"
   ]
  },
  {
   "cell_type": "code",
   "execution_count": null,
   "metadata": {},
   "outputs": [],
   "source": [
    "styledict = yearly_cases.set_index(\"ISO3\")[\"total_suspected_cases\"].to_dict()\n",
    "time_indexed_style = {}\n",
    "\n",
    "for ISO3, total_suspected_cases in styledict.items():\n",
    "    time_indexed_style[ISO3] = {\n",
    "        \"fillOpacity\": 0.7,\n",
    "        \"color\": \"black\",\n",
    "        \"fillColor\": \"YlGn\",\n",
    "        \"weight\": 1.0,\n",
    "        \"opacity\": 0.7,\n",
    "        \"dashArray\": \"3\",\n",
    "        \"radius\": total_suspected_cases * 0.5,\n",
    "    }"
   ]
  },
  {
   "cell_type": "code",
   "execution_count": null,
   "metadata": {},
   "outputs": [],
   "source": [
    "TimeSliderChoropleth(\n",
    "    benin_geodata,\n",
    "    name=\"Outbreaks over time\",\n",
    "    styledict=time_indexed_style,\n",
    "    overlay=True,\n",
    ").add_to(m)"
   ]
  },
  {
   "cell_type": "code",
   "execution_count": null,
   "metadata": {},
   "outputs": [],
   "source": [
    "print(benin_geodata.set_index(\"NAME_1\")[\"geometry\"])"
   ]
  },
  {
   "cell_type": "code",
   "execution_count": null,
   "metadata": {},
   "outputs": [],
   "source": [
    "choropleth = folium.Choropleth(\n",
    "    name=\"Cholera Outbreaks in Benin\",\n",
    "    geo_data=benin_geodata,\n",
    "    data=yearly_cases,\n",
    "    columns=[\"ADM2\", \"total_suspected_cases\"],\n",
    "    # displaying missing data in purple\n",
    "    nan_fill_color=\"blue\",\n",
    "    nan_fill_opacity=0.4,\n",
    "    # YlGn refers to yellow and green\n",
    "    fill_color=\"YlGn\",\n",
    "    fill_opacity=0.7,\n",
    "    line_opacity=0.1,  # type: ignore\n",
    "    key_on=\"feature.id\",\n",
    "    legend_name=\"Cholera Outbreaks in Benin\",\n",
    "    overlay=False,\n",
    ").add_to(m)\n",
    "\n",
    "\n",
    "m"
   ]
  },
  {
   "cell_type": "code",
   "execution_count": null,
   "metadata": {},
   "outputs": [],
   "source": [
    "benin_geojson = gpd.GeoSeries(benin_geodata.set_index(\"NAME_1\")[\"geometry\"]).to_json()\n",
    "benin_geojson"
   ]
  },
  {
   "cell_type": "code",
   "execution_count": null,
   "metadata": {},
   "outputs": [],
   "source": [
    "yearly_snapshot = px.choropleth(\n",
    "    yearly_cases,\n",
    "    locations=\"NAME_2\",\n",
    "    color=\"total_suspected_cases\",\n",
    "    hover_name=\"NAME_2\",\n",
    "    color_continuous_scale=px.colors.sequential.Plasma,\n",
    "    animation_frame=\"s_year\",\n",
    "    animation_group=\"NAME_2\",\n",
    "    range_color=[0, 100000],\n",
    "    geojson=feature_collection,\n",
    "    featureidkey=\"properties.NAME_2\",\n",
    ")\n",
    "\n",
    "yearly_snapshot.update_geos(scope=\"africa\")\n",
    "\n",
    "yearly_snapshot.show()"
   ]
  },
  {
   "cell_type": "code",
   "execution_count": null,
   "metadata": {},
   "outputs": [],
   "source": []
  }
 ],
 "metadata": {
  "kernelspec": {
   "display_name": "geo-ds-cholera",
   "language": "python",
   "name": "python3"
  }
 },
 "nbformat": 4,
 "nbformat_minor": 2
}
