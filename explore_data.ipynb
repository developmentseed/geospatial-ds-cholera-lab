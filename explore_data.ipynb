{
 "cells": [
  {
   "cell_type": "code",
   "execution_count": null,
   "metadata": {},
   "outputs": [],
   "source": [
    "import pandas as pd\n",
    "import pycountry\n",
    "from fuzzywuzzy import fuzz, process"
   ]
  },
  {
   "cell_type": "code",
   "execution_count": null,
   "metadata": {},
   "outputs": [],
   "source": [
    "outbreak_data_df = pd.read_csv(\"data/outbreak_data.csv\")\n",
    "outbreak_data_df.info()"
   ]
  },
  {
   "cell_type": "code",
   "execution_count": null,
   "metadata": {},
   "outputs": [],
   "source": [
    "outbreak_data_df[\"spatial_scale\"].value_counts()"
   ]
  },
  {
   "cell_type": "code",
   "execution_count": null,
   "metadata": {},
   "outputs": [],
   "source": [
    "outbreak_data_df[outbreak_data_df[\"spatial_scale\"] == \"admin2\"]"
   ]
  },
  {
   "attachments": {},
   "cell_type": "markdown",
   "metadata": {},
   "source": [
    "ADM0 - Country\n",
    "ADM1 - Province/State\n",
    "ADM2 - District/Region\n",
    "ADM3 - Local Governemtn/Area Councils\n",
    "ADM4 - Ward/Village"
   ]
  },
  {
   "attachments": {},
   "cell_type": "markdown",
   "metadata": {},
   "source": [
    "Using the outbreak_data_df DataFrame, I am creating a location DataFrame by splitting the 'location' string. "
   ]
  },
  {
   "cell_type": "code",
   "execution_count": null,
   "metadata": {},
   "outputs": [],
   "source": [
    "location_df = outbreak_data_df[\"location\"].str.split(\"::\", expand=True)\n",
    "column_names = [\"ADM0\", \"ADM1\", \"ADM2\", \"ADM3\", \"AMD4\"]\n",
    "location_df.columns = column_names\n",
    "location_df"
   ]
  },
  {
   "cell_type": "code",
   "execution_count": null,
   "metadata": {},
   "outputs": [],
   "source": [
    "adm0 = location_df[\"ADM0\"].values"
   ]
  },
  {
   "attachments": {},
   "cell_type": "markdown",
   "metadata": {},
   "source": [
    "Using the pycountry package, I am creating a DataFrame of the countries that match the values of the location_df['AMD1'] column."
   ]
  },
  {
   "cell_type": "code",
   "execution_count": null,
   "metadata": {},
   "outputs": [],
   "source": [
    "adm1 = location_df[\"ADM1\"].values\n",
    "fuzzy_countries_data = []\n",
    "for adm1 in adm1:\n",
    "    fuzzy_search = pycountry.countries.search_fuzzy(adm1)[0]\n",
    "    fuzzy_countries_data.append(\n",
    "        {\n",
    "            \"ADM1\": adm1,\n",
    "            \"Country\": fuzzy_search.name,\n",
    "            \"Alpha 3\": fuzzy_search.alpha_3,\n",
    "        }\n",
    "    )\n",
    "fuzzy_countries_df = pd.DataFrame(fuzzy_countries_data)\n",
    "fuzzy_countries_df"
   ]
  },
  {
   "attachments": {},
   "cell_type": "markdown",
   "metadata": {},
   "source": [
    "Using the pycountry.subdivisions data, I am creating a new DataFrame that I can to extract the ADM2 Names, the country, and its corresponding code."
   ]
  },
  {
   "cell_type": "code",
   "execution_count": null,
   "metadata": {},
   "outputs": [],
   "source": [
    "subdivisions = pycountry.subdivisions\n",
    "\n",
    "# Create a list to store subdivision data\n",
    "subdivision_data = []\n",
    "\n",
    "# Iterate over subdivisions and extract relevant information\n",
    "for subdivision in subdivisions:\n",
    "    subdivision_data.append(\n",
    "        {\n",
    "            \"ADM2 Name\": subdivision.name,\n",
    "            \"Code\": subdivision.code,\n",
    "            \"Country\": subdivision.country.name,\n",
    "            \"Country Code\": subdivision.country.alpha_2,\n",
    "        }\n",
    "    )\n",
    "\n",
    "# Create a DataFrame from the subdivision data\n",
    "subdivision_df = pd.DataFrame(subdivision_data)\n",
    "subdivision_df"
   ]
  },
  {
   "cell_type": "code",
   "execution_count": null,
   "metadata": {},
   "outputs": [],
   "source": [
    "merged_df = pd.merge(subdivision_df, fuzzy_countries_df, on=\"Country\")\n",
    "merged_df"
   ]
  },
  {
   "cell_type": "code",
   "execution_count": null,
   "metadata": {},
   "outputs": [],
   "source": [
    "adm2 = location_df[\"ADM2\"].values\n",
    "subdivison_matches = []\n",
    "for adm2 in adm2:\n",
    "    matched_subdivision = process.extractOne(adm2, subdivision_df[\"ADM2 Name\"].values)\n",
    "    subdivison_matches.append(\n",
    "        {\n",
    "            \"Location String\": outbreak_data_df[\"location\"],\n",
    "            \"AMD2\": adm2,\n",
    "            \"ADM2 Name\": matched_subdivision[0],\n",
    "            \"Name Score\": matched_subdivision[1],\n",
    "        }\n",
    "    )\n",
    "\n",
    "subdivison_matches_df = pd.DataFrame(subdivison_matches)\n",
    "subdivison_matches_df"
   ]
  },
  {
   "cell_type": "code",
   "execution_count": null,
   "metadata": {},
   "outputs": [],
   "source": [
    "final_merged_df = pd.merge(merged_df, subdivison_matches_df, on=\"ADM2 Name\")\n",
    "final_merged_df"
   ]
  },
  {
   "cell_type": "code",
   "execution_count": null,
   "metadata": {},
   "outputs": [],
   "source": []
  }
 ],
 "metadata": {
  "kernelspec": {
   "display_name": "geo-ds-cholera",
   "language": "python",
   "name": "python3"
  }
 },
 "nbformat": 4,
 "nbformat_minor": 2
}
