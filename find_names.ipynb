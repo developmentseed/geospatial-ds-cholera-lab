{
 "cells": [
  {
   "cell_type": "code",
   "execution_count": null,
   "metadata": {},
   "outputs": [],
   "source": [
    "from geopy.geocoders import Nominatim\n",
    "import csv\n",
    "import pandas as pd"
   ]
  },
  {
   "cell_type": "code",
   "execution_count": null,
   "metadata": {},
   "outputs": [],
   "source": [
    "geolocator = Nominatim(user_agent=\"cholera_lab\")"
   ]
  },
  {
   "cell_type": "code",
   "execution_count": null,
   "metadata": {},
   "outputs": [],
   "source": [
    "geocode = geolocator.geocode(\"MORA+cameroon\", country_codes=\"cmr\")\n",
    "print(geocode)"
   ]
  },
  {
   "cell_type": "code",
   "execution_count": null,
   "metadata": {},
   "outputs": [],
   "source": [
    "country_dict = {\n",
    "    \"CMR\": \"Cameroon\",\n",
    "    \"COD\": \"Congo\",\n",
    "    \"COG\": \"Congo-Brazzaville\",\n",
    "    \"ETH\": \"Ethiopia\",\n",
    "    \"KEN\": \"Kenya\",\n",
    "    \"MWI\": \"Malawi\",\n",
    "    \"NER\": \"Niger\",\n",
    "    \"SSD\": \"South Sudan\",\n",
    "    \"TCD\": \"TChad\",\n",
    "}"
   ]
  },
  {
   "cell_type": "code",
   "execution_count": null,
   "metadata": {},
   "outputs": [],
   "source": [
    "geocode_list = []\n",
    "with open(\"manually_updated_admin_names.csv\", \"r\") as file:\n",
    "    reader = csv.reader(file)\n",
    "\n",
    "    for row in reader:\n",
    "        country = row[0]\n",
    "        admin2 = row[1]\n",
    "        str_to_query = admin2 + \"+\" + country_dict.get(country, \"\")\n",
    "        geocode = geolocator.geocode(str_to_query, country_codes=country)\n",
    "        address = None\n",
    "        if geocode:\n",
    "            address = geocode.address\n",
    "\n",
    "        geocode_list.append(\n",
    "            {\"admin0\": country, \"admin2\": admin2, \"geocode match\": address}\n",
    "        )"
   ]
  },
  {
   "cell_type": "code",
   "execution_count": null,
   "metadata": {},
   "outputs": [],
   "source": [
    "geocode_df = pd.DataFrame(geocode_list)\n",
    "pd.set_option(\"display.max_rows\", None)\n",
    "pd.set_option(\"display.max_columns\", None)"
   ]
  },
  {
   "cell_type": "code",
   "execution_count": null,
   "metadata": {},
   "outputs": [],
   "source": [
    "for index, location in geocode_df[\"geocode match\"].items():\n",
    "    if location:\n",
    "        address_parts = location.split(\",\")\n",
    "        if len(address_parts) > 3:\n",
    "            geocode_df.loc[index, \"parsed admin2\"] = address_parts[-3]\n",
    "        elif len(address_parts) > 2:\n",
    "            geocode_df.loc[index, \"parsed admin2\"] = address_parts[-2]\n",
    "        if len(address_parts) == 1:\n",
    "            geocode_df.loc[index, \"parsed admin2\"] = location\n",
    "    else:\n",
    "        geocode_df.loc[index, \"parsed admin2\"] = None\n",
    "\n",
    "geocode_df.to_csv(\"matched_admin2_names.csv\", index=False)\n",
    "geocode_df"
   ]
  }
 ],
 "metadata": {
  "kernelspec": {
   "display_name": "geo-ds-cholera",
   "language": "python",
   "name": "python3"
  }
 },
 "nbformat": 4,
 "nbformat_minor": 2
}
