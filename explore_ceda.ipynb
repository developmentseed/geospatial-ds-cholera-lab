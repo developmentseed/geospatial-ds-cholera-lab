{
 "cells": [
  {
   "cell_type": "code",
   "execution_count": null,
   "metadata": {},
   "outputs": [],
   "source": [
    "import numpy as np\n",
    "import xarray as xr"
   ]
  },
  {
   "attachments": {},
   "cell_type": "markdown",
   "metadata": {},
   "source": [
    "### Exploring Chloropyll A\n",
    "\n",
    "Here we will focus on accessing and visualizing one global layer for chloropyll for just one monthly time step (which is its own `netcdf` file) representing January 2020. "
   ]
  },
  {
   "cell_type": "code",
   "execution_count": null,
   "metadata": {},
   "outputs": [],
   "source": [
    "# using locally downloaded dataset - on cholorphyll\n",
    "ds = xr.open_dataset(\n",
    "    \"data/ESACCI-OC-L3S-CHLOR_A-MERGED-1M_MONTHLY_4km_GEO_PML_OCx-202001-fv5.0.nc\"\n",
    ")"
   ]
  },
  {
   "cell_type": "code",
   "execution_count": null,
   "metadata": {},
   "outputs": [],
   "source": [
    "ds"
   ]
  },
  {
   "cell_type": "code",
   "execution_count": null,
   "metadata": {},
   "outputs": [],
   "source": [
    "print(ds.dims)"
   ]
  },
  {
   "cell_type": "code",
   "execution_count": null,
   "metadata": {},
   "outputs": [],
   "source": [
    "print(ds.data_vars)"
   ]
  },
  {
   "cell_type": "code",
   "execution_count": null,
   "metadata": {},
   "outputs": [],
   "source": [
    "print(ds.variables.keys())"
   ]
  },
  {
   "cell_type": "code",
   "execution_count": null,
   "metadata": {},
   "outputs": [],
   "source": [
    "# extracting only cholorphyll data\n",
    "chlor_a = ds.variables[\"chlor_a\"]\n",
    "chlor_a"
   ]
  },
  {
   "cell_type": "code",
   "execution_count": null,
   "metadata": {},
   "outputs": [],
   "source": [
    "chlor_a.attrs[\"units\"]"
   ]
  },
  {
   "cell_type": "code",
   "execution_count": null,
   "metadata": {},
   "outputs": [],
   "source": [
    "import matplotlib.pyplot as plt\n",
    "\n",
    "chlor_a2d = chlor_a.isel(time=0)\n",
    "chlor_a2d"
   ]
  },
  {
   "cell_type": "code",
   "execution_count": null,
   "metadata": {},
   "outputs": [],
   "source": [
    "import matplotlib.pyplot as plt\n",
    "\n",
    "plt.rcParams[\"figure.figsize\"] = (12.0, 8.0)\n",
    "\n",
    "# Image is upside-down so we have to flip it here.\n",
    "f = np.flip(chlor_a2d, 0)\n",
    "\n",
    "plt.contourf(f, 20, cmap=plt.get_cmap(\"YlGnBu_r\"))\n",
    "plt.colorbar()\n",
    "plt.show()"
   ]
  },
  {
   "attachments": {},
   "cell_type": "markdown",
   "metadata": {},
   "source": [
    "Note that this is an ocean based dataset - so we'd have to calculate values for each nation based on proximity - and only for those nations that touched the ocean. Additionally, we'll want to explore min/max values and be able to `zoom in` to particular regions as chloropyll A concentrations will accumulate only in those areas closer to the shore. "
   ]
  },
  {
   "attachments": {},
   "cell_type": "markdown",
   "metadata": {},
   "source": [
    "### Exploring Land Surface Temperature"
   ]
  },
  {
   "attachments": {},
   "cell_type": "markdown",
   "metadata": {},
   "source": [
    "Now let's explore Land Surface Temperature, but this time let's try to access directly from the URL"
   ]
  },
  {
   "cell_type": "code",
   "execution_count": null,
   "metadata": {},
   "outputs": [],
   "source": [
    "# url = (\"https://dap.ceda.ac.uk/neodc/esacci/land_surface_temperature/data/MULTISENSOR_IRCDR/L3S/0.01/v2.00/monthly/2020/12/ESACCI-LST-L3S-LST-IRCDR_-0.01deg_1MONTHLY_DAY-20201201000000-fv2.00.nc?download=1\")\n",
    "\n",
    "\n",
    "# original link above doesn't work, must add `#mode=bytes` to the end (see: https://github.com/Unidata/netcdf4-python/issues/1043)\n",
    "url = \"https://dap.ceda.ac.uk/neodc/esacci/land_surface_temperature/data/MULTISENSOR_IRCDR/L3S/0.01/v2.00/monthly/2020/12/ESACCI-LST-L3S-LST-IRCDR_-0.01deg_1MONTHLY_DAY-20201201000000-fv2.00.nc#mode=bytes\""
   ]
  },
  {
   "cell_type": "code",
   "execution_count": null,
   "metadata": {},
   "outputs": [],
   "source": [
    "ds_disk = xr.open_dataset(url)\n",
    "# ds_disk = xr.open_dataset(url, decode_times=False)\n",
    "ds_disk"
   ]
  },
  {
   "cell_type": "code",
   "execution_count": null,
   "metadata": {},
   "outputs": [],
   "source": [
    "# subset to bbox"
   ]
  },
  {
   "cell_type": "code",
   "execution_count": null,
   "metadata": {},
   "outputs": [],
   "source": [
    "# Convert from Kelvin to Celsius\n",
    "lst = ds_disk[\"lst\"] - 273.15\n",
    "lst"
   ]
  },
  {
   "attachments": {},
   "cell_type": "markdown",
   "metadata": {},
   "source": [
    "We'll visualize only 1 time step here - but it would be great to visualize the whole time series:\n",
    "* we could visualize instead as a line graph\n",
    "* or as visualization that loops over the entire time period \n",
    "\n",
    "But more importantly, we're going to have to aggregate these daily values to monthly. "
   ]
  },
  {
   "cell_type": "code",
   "execution_count": null,
   "metadata": {},
   "outputs": [],
   "source": [
    "lst.dims"
   ]
  },
  {
   "cell_type": "code",
   "execution_count": null,
   "metadata": {},
   "outputs": [],
   "source": [
    "# selecting single time point (first time-step)\n",
    "lst_2d = lst.isel(time=0)\n",
    "lst_2d"
   ]
  },
  {
   "cell_type": "code",
   "execution_count": null,
   "metadata": {},
   "outputs": [],
   "source": [
    "plt.contourf(lst_2d, 20, cmap=plt.get_cmap(\"coolwarm\"))\n",
    "plt.colorbar()\n",
    "plt.show()\n",
    "\n",
    "# Would prefer hvplot, but datashader not yet supported on python 3.11"
   ]
  },
  {
   "attachments": {},
   "cell_type": "markdown",
   "metadata": {},
   "source": [
    "In addition to aggregating these daily values into monthly means, we would also require that these calculatons were done for the admin level of interest (i.e., using zonal statistics). "
   ]
  },
  {
   "cell_type": "code",
   "execution_count": null,
   "metadata": {},
   "outputs": [],
   "source": [
    "import geopandas as gpd\n",
    "\n",
    "admin0_gdf = gpd.read_file(\n",
    "    \"https://geoportal.icpac.net/geoserver/ows?service=WFS&version=1.0.0&request=GetFeature&typename=geonode%3Aafr_g2014_2013_0&outputFormat=json&srs=EPSG%3A4326&srsName=EPSG%3A4326\"\n",
    ")\n",
    "# admin0_gdf\n",
    "\n",
    "print(admin0_gdf.crs)"
   ]
  },
  {
   "cell_type": "code",
   "execution_count": null,
   "metadata": {},
   "outputs": [],
   "source": [
    "print(lst.crs)"
   ]
  },
  {
   "cell_type": "code",
   "execution_count": null,
   "metadata": {},
   "outputs": [],
   "source": [
    "lst = lst.set_crs(epsg=4326)\n",
    "lst.crs"
   ]
  },
  {
   "cell_type": "code",
   "execution_count": null,
   "metadata": {},
   "outputs": [],
   "source": [
    "bbox = admin0_gdf.geometry.total_bounds\n",
    "print(bbox)"
   ]
  },
  {
   "cell_type": "code",
   "execution_count": null,
   "metadata": {},
   "outputs": [],
   "source": [
    "# Subset to bounding box of African continent\n",
    "\n",
    "african_subset = lst.rio.clip(bbox)\n",
    "\n",
    "african_subset"
   ]
  },
  {
   "cell_type": "code",
   "execution_count": null,
   "metadata": {},
   "outputs": [],
   "source": [
    "import pandas as pd\n",
    "import rasterio as rio\n",
    "import rasterstats as rs\n",
    "from rasterstats import zonal_stats\n",
    "import rioxarray"
   ]
  },
  {
   "cell_type": "code",
   "execution_count": null,
   "metadata": {},
   "outputs": [],
   "source": [
    "# admin0_lst = rs.zonal_stats(\n",
    "#     admin0_gdf,\n",
    "#     # lst_2d.squeeze().values,\n",
    "#     lst_2d.values,\n",
    "#     categorical=True,\n",
    "#     affine=lst_2d.rio.transform(),\n",
    "#     stats=\"mean\")"
   ]
  },
  {
   "cell_type": "code",
   "execution_count": null,
   "metadata": {},
   "outputs": [],
   "source": []
  }
 ],
 "metadata": {
  "kernelspec": {
   "display_name": "geo-ds-cholera",
   "language": "python",
   "name": "python3"
  }
 },
 "nbformat": 4,
 "nbformat_minor": 2
}
