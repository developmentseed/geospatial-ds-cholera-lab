{
 "cells": [
  {
   "cell_type": "code",
   "execution_count": null,
   "metadata": {},
   "outputs": [],
   "source": [
    "import numpy as np\n",
    "import xarray as xr"
   ]
  },
  {
   "attachments": {},
   "cell_type": "markdown",
   "metadata": {},
   "source": [
    "### Exploring Chloropyll A\n",
    "\n",
    "Here we will focus on accessing and visualizing one global layer for chloropyll for just one monthly time step (which is its own `netcdf` file) representing January 2020. "
   ]
  },
  {
   "cell_type": "code",
   "execution_count": null,
   "metadata": {},
   "outputs": [],
   "source": [
    "# using locally downloaded dataset - on cholorphyll\n",
    "ds = xr.open_dataset(\n",
    "    \"data/ESACCI-OC-L3S-CHLOR_A-MERGED-1M_MONTHLY_4km_GEO_PML_OCx-202001-fv5.0.nc\"\n",
    ")"
   ]
  },
  {
   "cell_type": "code",
   "execution_count": null,
   "metadata": {},
   "outputs": [],
   "source": [
    "ds"
   ]
  },
  {
   "cell_type": "code",
   "execution_count": null,
   "metadata": {},
   "outputs": [],
   "source": [
    "print(ds.dims)"
   ]
  },
  {
   "cell_type": "code",
   "execution_count": null,
   "metadata": {},
   "outputs": [],
   "source": [
    "print(ds.data_vars)"
   ]
  },
  {
   "cell_type": "code",
   "execution_count": null,
   "metadata": {},
   "outputs": [],
   "source": [
    "print(ds.variables.keys())"
   ]
  },
  {
   "cell_type": "code",
   "execution_count": null,
   "metadata": {},
   "outputs": [],
   "source": [
    "# extracting only cholorphyll data\n",
    "chlor_a = ds.variables[\"chlor_a\"]\n",
    "chlor_a"
   ]
  },
  {
   "cell_type": "code",
   "execution_count": null,
   "metadata": {},
   "outputs": [],
   "source": [
    "chlor_a.attrs[\"units\"]"
   ]
  },
  {
   "cell_type": "code",
   "execution_count": null,
   "metadata": {},
   "outputs": [],
   "source": [
    "import matplotlib.pyplot as plt\n",
    "\n",
    "chlor_a2d = chlor_a.isel(time=0)\n",
    "chlor_a2d"
   ]
  },
  {
   "cell_type": "code",
   "execution_count": null,
   "metadata": {},
   "outputs": [],
   "source": [
    "import matplotlib.pyplot as plt\n",
    "\n",
    "plt.rcParams[\"figure.figsize\"] = (12.0, 8.0)\n",
    "\n",
    "# Image is upside-down so we have to flip it here.\n",
    "f = np.flip(chlor_a2d, 0)\n",
    "\n",
    "plt.contourf(f, 20, cmap=plt.get_cmap(\"YlGnBu_r\"))\n",
    "plt.colorbar()\n",
    "plt.show()"
   ]
  },
  {
   "attachments": {},
   "cell_type": "markdown",
   "metadata": {},
   "source": [
    "Note that this is an ocean based dataset - so we'd have to calculate values for each administrative boundary of interest based on proximity - and only for those areas that touched the ocean. \n",
    "\n",
    "Campbell et al. (2020) extracted oceanic variable data for coastal areas extending from the district shoreline to one decimal degree offshore. They then calculated a mean value for each coastal district area. \n",
    "\n",
    "Additionally, displaying the data visually, we'll want to explore min/max values and be able to `zoom in` to particular regions as chloropyll A concentrations will accumulate only in those areas closer to the shore. "
   ]
  },
  {
   "attachments": {},
   "cell_type": "markdown",
   "metadata": {},
   "source": [
    "### Exploring Land Surface Temperature"
   ]
  },
  {
   "attachments": {},
   "cell_type": "markdown",
   "metadata": {},
   "source": [
    "Now let's explore Land Surface Temperature, but this time let's try to access directly from the URL"
   ]
  },
  {
   "cell_type": "code",
   "execution_count": null,
   "metadata": {},
   "outputs": [],
   "source": [
    "# url = (\"https://dap.ceda.ac.uk/neodc/esacci/land_surface_temperature/data/MULTISENSOR_IRCDR/L3S/0.01/v2.00/monthly/2020/12/ESACCI-LST-L3S-LST-IRCDR_-0.01deg_1MONTHLY_DAY-20201201000000-fv2.00.nc?download=1\")\n",
    "\n",
    "# original link above doesn't work, must add `#mode=bytes` to the end (see: https://github.com/Unidata/netcdf4-python/issues/1043)\n",
    "url = \"https://dap.ceda.ac.uk/neodc/esacci/land_surface_temperature/data/MULTISENSOR_IRCDR/L3S/0.01/v2.00/monthly/2020/12/ESACCI-LST-L3S-LST-IRCDR_-0.01deg_1MONTHLY_DAY-20201201000000-fv2.00.nc#mode=bytes\""
   ]
  },
  {
   "cell_type": "code",
   "execution_count": null,
   "metadata": {},
   "outputs": [],
   "source": [
    "ds_disk = xr.open_dataset(url)\n",
    "ds_disk"
   ]
  },
  {
   "attachments": {},
   "cell_type": "markdown",
   "metadata": {},
   "source": [
    "Before we do any processing of the data, we will want to clip the global dataset down to our AOI (continent of Africa) to reduce the size and processing time. To do this, we'll import the national administrative boundaries (admin 0) for Africa in order to create a bounding box for the continent."
   ]
  },
  {
   "cell_type": "code",
   "execution_count": null,
   "metadata": {},
   "outputs": [],
   "source": [
    "import geopandas as gpd\n",
    "\n",
    "admin0_gdf = gpd.read_file(\n",
    "    \"https://geoportal.icpac.net/geoserver/ows?service=WFS&version=1.0.0&request=GetFeature&typename=geonode%3Aafr_g2014_2013_0&outputFormat=json&srs=EPSG%3A4326&srsName=EPSG%3A4326\"\n",
    ")\n",
    "# admin0_gdf\n",
    "\n",
    "print(admin0_gdf.crs)"
   ]
  },
  {
   "cell_type": "code",
   "execution_count": null,
   "metadata": {},
   "outputs": [],
   "source": [
    "xmin, ymin, xmax, ymax = admin0_gdf.geometry.total_bounds\n",
    "print(xmin, ymin, xmax, ymax)"
   ]
  },
  {
   "cell_type": "code",
   "execution_count": null,
   "metadata": {},
   "outputs": [],
   "source": [
    "# Subset to bounding box of African continent\n",
    "ds_disk.rio.write_crs(\"epsg:4326\", inplace=True)"
   ]
  },
  {
   "cell_type": "code",
   "execution_count": null,
   "metadata": {},
   "outputs": [],
   "source": [
    "lst_clip = ds_disk[\"lst\"].rio.clip_box(\n",
    "    minx=xmin,\n",
    "    miny=ymin,\n",
    "    maxx=xmax,\n",
    "    maxy=ymax,\n",
    "    crs=\"epsg:4326\",\n",
    ")"
   ]
  },
  {
   "cell_type": "code",
   "execution_count": null,
   "metadata": {},
   "outputs": [],
   "source": [
    "lst_clip"
   ]
  },
  {
   "cell_type": "code",
   "execution_count": null,
   "metadata": {},
   "outputs": [],
   "source": [
    "# Convert from Kelvin to Celsius\n",
    "lst_africa_c = lst_clip - 273.15\n",
    "lst_africa_c\n",
    "\n",
    "# does this work correctly? It appears to, but bounds still fairly high in some pleaces"
   ]
  },
  {
   "attachments": {},
   "cell_type": "markdown",
   "metadata": {},
   "source": [
    "We'll visualize only 1 time step here - but it would be great to visualize the whole time series:\n",
    "* we could visualize instead as a line graph\n",
    "* or as visualization that loops over the entire time period \n",
    "\n",
    "But more importantly, we're going to have to aggregate these daily values to monthly. "
   ]
  },
  {
   "cell_type": "code",
   "execution_count": null,
   "metadata": {},
   "outputs": [],
   "source": [
    "lst_africa_c.dims"
   ]
  },
  {
   "cell_type": "code",
   "execution_count": null,
   "metadata": {},
   "outputs": [],
   "source": [
    "# selecting single time point (first time-step)\n",
    "lst_2d = lst_africa_c.isel(time=0)\n",
    "lst_2d"
   ]
  },
  {
   "cell_type": "code",
   "execution_count": null,
   "metadata": {},
   "outputs": [],
   "source": [
    "lst_2d.dims"
   ]
  },
  {
   "cell_type": "code",
   "execution_count": null,
   "metadata": {},
   "outputs": [],
   "source": [
    "plt.contourf(lst_2d, 20, cmap=plt.get_cmap(\"coolwarm\"))\n",
    "plt.colorbar()\n",
    "plt.show()\n",
    "\n",
    "# Would prefer hvplot, but datashader not yet supported on python 3.11"
   ]
  },
  {
   "attachments": {},
   "cell_type": "markdown",
   "metadata": {},
   "source": [
    "In addition to aggregating these daily values into monthly means, we would also require that these calculatons were done for the admin level of interest (i.e., using zonal statistics). \n",
    "\n",
    "Will also have to account for missing data."
   ]
  },
  {
   "attachments": {},
   "cell_type": "markdown",
   "metadata": {},
   "source": [
    "Exploring development of a function to complete all of the above:"
   ]
  },
  {
   "cell_type": "code",
   "execution_count": null,
   "metadata": {},
   "outputs": [],
   "source": [
    "import time as ts"
   ]
  },
  {
   "cell_type": "code",
   "execution_count": null,
   "metadata": {},
   "outputs": [],
   "source": [
    "url_recipe = \"https://dap.ceda.ac.uk/neodc/esacci/land_surface_temperature/data/MULTISENSOR_IRCDR/L3S/0.01/v2.00/monthly/{year:04d}/{month:02d}/ESACCI-LST-L3S-LST-IRCDR_-0.01deg_1MONTHLY_DAY-f'ArithmeticError{ts.strftime('%Y%m%d%H%M%S')}'-fv2.00.nc#mode=bytes\""
   ]
  },
  {
   "cell_type": "code",
   "execution_count": null,
   "metadata": {},
   "outputs": [],
   "source": [
    "url_recipe"
   ]
  },
  {
   "attachments": {},
   "cell_type": "markdown",
   "metadata": {},
   "source": [
    "This is failing as there is an `arithmetic error` on the final date read. Difficult to understand if this `netcdf` file is one day or one month. Need to also look into `dtime` value as in nanoseconds. "
   ]
  },
  {
   "cell_type": "code",
   "execution_count": null,
   "metadata": {},
   "outputs": [],
   "source": [
    "import os\n",
    "import requests\n",
    "import pandas as pd"
   ]
  },
  {
   "cell_type": "code",
   "execution_count": null,
   "metadata": {},
   "outputs": [],
   "source": [
    "bbox = admin0_gdf.geometry.total_bounds"
   ]
  },
  {
   "attachments": {},
   "cell_type": "markdown",
   "metadata": {},
   "source": [
    "Creating a function to iterate through the URL folders to allow for filtering first, so as to create most efficient workflow before downloading data to process. Below is a work-in-progress (not yet successfully run through) using the bounding box for the continent in this first pass. We'll instead want to iterate through bounding boxes for each admin2 level. "
   ]
  },
  {
   "cell_type": "code",
   "execution_count": null,
   "metadata": {},
   "outputs": [],
   "source": [
    "def calc_monthly_means(url_recipe, bounding_box):\n",
    "    monthly_means = {}\n",
    "\n",
    "    # loop through each month\n",
    "    for year in range(2020, 2020):\n",
    "        for month in range(1, 13):\n",
    "            # generate URL for netcdf file\n",
    "            url = url_recipe.format(year=year, month=month)\n",
    "\n",
    "            # download the netcdf file\n",
    "            response = requests.get(url)\n",
    "            if response.status_code == 200:\n",
    "                filename = url.split(\"/\")[-1]\n",
    "                with open(filename, \"wb\") as file:\n",
    "                    file.write(response.content)\n",
    "\n",
    "                    # Open the NetCDF file using xarray\n",
    "                dataset = xr.open_dataset(filename)\n",
    "\n",
    "                # Clip the dataset to the bounding box\n",
    "                clipped_dataset = dataset.sel(\n",
    "                    latitude=slice(bounding_box[2], bounding_box[3]),\n",
    "                    longitude=slice(bounding_box[0], bounding_box[1]),\n",
    "                )\n",
    "\n",
    "                # Calculate the mean values for the administrative boundary\n",
    "                mean_values = clipped_dataset.mean(dim=[\"latitude\", \"longitude\"])\n",
    "\n",
    "                # Store the mean values in a DataFrame\n",
    "                month_str = f\"{year}-{month:02d}\"\n",
    "                monthly_means[month_str] = mean_values.to_dataframe()\n",
    "\n",
    "                # Remove the downloaded NetCDF file\n",
    "                os.remove(filename)\n",
    "\n",
    "    # Combine the monthly mean values into a single DataFrame\n",
    "    combined_df = pd.concat(monthly_means)\n",
    "\n",
    "    return combined_df"
   ]
  },
  {
   "cell_type": "code",
   "execution_count": null,
   "metadata": {},
   "outputs": [],
   "source": [
    "africa_monthly = calc_monthly_means(url_recipe, bbox)\n",
    "africa_monthly"
   ]
  },
  {
   "attachments": {},
   "cell_type": "markdown",
   "metadata": {},
   "source": [
    "Ignore from here forwards..."
   ]
  },
  {
   "cell_type": "code",
   "execution_count": null,
   "metadata": {},
   "outputs": [],
   "source": [
    "import pandas as pd\n",
    "import rasterio as rio\n",
    "import rasterstats as rs\n",
    "from rasterstats import zonal_stats\n",
    "import rioxarray"
   ]
  },
  {
   "cell_type": "code",
   "execution_count": null,
   "metadata": {},
   "outputs": [],
   "source": [
    "admin0_lst = rs.zonal_stats(\n",
    "    admin0_gdf,\n",
    "    lst_2d.squeeze().values,\n",
    "    categorical=True,\n",
    "    affine=lst_2d.rio.transform(),\n",
    "    stats=\"mean\",\n",
    ")"
   ]
  },
  {
   "cell_type": "code",
   "execution_count": null,
   "metadata": {},
   "outputs": [],
   "source": [
    "print(np.shape(lst_2d))"
   ]
  },
  {
   "cell_type": "code",
   "execution_count": null,
   "metadata": {},
   "outputs": [],
   "source": [
    "print(np.shape(admin0_gdf))"
   ]
  }
 ],
 "metadata": {
  "kernelspec": {
   "display_name": "geo-ds-cholera",
   "language": "python",
   "name": "python3"
  }
 },
 "nbformat": 4,
 "nbformat_minor": 2
}
