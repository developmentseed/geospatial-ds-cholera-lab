{
 "cells": [
  {
   "cell_type": "code",
   "execution_count": null,
   "metadata": {},
   "outputs": [],
   "source": [
    "import geopandas as gpd\n",
    "import rioxarray\n",
    "import rasterstats as rs\n",
    "import numpy as np\n",
    "import xarray as xr\n",
    "\n",
    "import shapely\n",
    "import warnings\n",
    "from shapely.errors import ShapelyDeprecationWarning\n",
    "\n",
    "warnings.filterwarnings(\"ignore\", category=ShapelyDeprecationWarning)"
   ]
  },
  {
   "attachments": {},
   "cell_type": "markdown",
   "metadata": {},
   "source": [
    "### Exploring Land Surface Temperature"
   ]
  },
  {
   "attachments": {},
   "cell_type": "markdown",
   "metadata": {},
   "source": [
    "ESA Land Surface Temperature Climate Change Initiative (LST_cci): Monthly Multisensor Infra-Red (IR) Low Earth Orbit (LEO) land surface temperature (LST) time series level 3 supercollated (L3S) global product (1995-2020), version 2.00. More information from the CEDA Archive can be found [here](https://catalogue.ceda.ac.uk/uuid/785ef9d3965442669bff899540747e28)."
   ]
  },
  {
   "attachments": {},
   "cell_type": "markdown",
   "metadata": {},
   "source": [
    "Now let's explore Land Surface Temperature, but this time let's try to access directly from the URL"
   ]
  },
  {
   "cell_type": "code",
   "execution_count": null,
   "metadata": {},
   "outputs": [],
   "source": [
    "# must add `#mode=bytes` to the end (see: https://github.com/Unidata/netcdf4-python/issues/1043)\n",
    "# url = \"https://dap.ceda.ac.uk/neodc/esacci/land_surface_temperature/data/MULTISENSOR_IRCDR/L3S/0.01/v2.00/monthly/2020/12/ESACCI-LST-L3S-LST-IRCDR_-0.01deg_1MONTHLY_DAY-20201201000000-fv2.00.nc#mode=bytes\"\n",
    "url = \"https://dap.ceda.ac.uk/neodc/esacci/land_surface_temperature/data/MULTISENSOR_IRCDR/L3S/0.01/v2.00/monthly/2020/11/ESACCI-LST-L3S-LST-IRCDR_-0.01deg_1MONTHLY_DAY-20201101000000-fv2.00.nc#mode=bytes\"\n",
    "# can check status of CEDA core archives here: https://stats.uptimerobot.com/vZPgQt7YnO, currently `dap` is down"
   ]
  },
  {
   "cell_type": "code",
   "execution_count": null,
   "metadata": {},
   "outputs": [],
   "source": [
    "ds_disk = xr.open_dataset(url)\n",
    "ds_disk"
   ]
  },
  {
   "attachments": {},
   "cell_type": "markdown",
   "metadata": {},
   "source": [
    "Before we do any processing of the data, we will want to clip the global dataset down to our AOI (continent of Africa) to reduce the size and processing time. To do this, we'll import the national administrative boundaries (admin 0) for Africa in order to create a bounding box for the continent."
   ]
  },
  {
   "cell_type": "code",
   "execution_count": null,
   "metadata": {},
   "outputs": [],
   "source": [
    "# import geopandas as gpd\n",
    "\n",
    "# admin0_gdf = gpd.read_file(\n",
    "#     \"https://geoportal.icpac.net/geoserver/ows?service=WFS&version=1.0.0&request=GetFeature&typename=geonode%3Aafr_g2014_2013_0&outputFormat=json&srs=EPSG%3A4326&srsName=EPSG%3A4326\"\n",
    "# )\n",
    "# # admin0_gdf\n",
    "\n",
    "# print(admin0_gdf.crs)"
   ]
  },
  {
   "cell_type": "code",
   "execution_count": null,
   "metadata": {},
   "outputs": [],
   "source": [
    "# xmin, ymin, xmax, ymax = admin0_gdf.geometry.total_bounds\n",
    "# print(xmin, ymin, xmax, ymax)"
   ]
  },
  {
   "cell_type": "code",
   "execution_count": null,
   "metadata": {},
   "outputs": [],
   "source": [
    "# sorting solves CRS issue? see: https://gis.stackexchange.com/questions/396365/using-rioxarray-to-assign-spatial-reference-epsg4326-to-netcdf-built-from-csv\n",
    "ds_sort = ds_disk.sortby([\"time\", \"lat\", \"lon\"])"
   ]
  },
  {
   "cell_type": "code",
   "execution_count": null,
   "metadata": {},
   "outputs": [],
   "source": [
    "# Assign crs to match boundaries\n",
    "ds_sort.rio.write_crs(\"epsg:4326\", inplace=True)"
   ]
  },
  {
   "cell_type": "code",
   "execution_count": null,
   "metadata": {},
   "outputs": [],
   "source": [
    "# Subset to bounding box of African continent\n",
    "lst_clip = ds_sort[\"lst\"].rio.clip_box(\n",
    "    minx=-25.35874748,\n",
    "    miny=-46.9813795,\n",
    "    maxx=63.5026492,\n",
    "    maxy=37.560954,\n",
    "    crs=\"EPSG:4326\",\n",
    ")"
   ]
  },
  {
   "cell_type": "code",
   "execution_count": null,
   "metadata": {},
   "outputs": [],
   "source": [
    "lst_clip"
   ]
  },
  {
   "cell_type": "code",
   "execution_count": null,
   "metadata": {},
   "outputs": [],
   "source": [
    "lst_clip.coords"
   ]
  },
  {
   "cell_type": "code",
   "execution_count": null,
   "metadata": {},
   "outputs": [],
   "source": [
    "# Convert from Kelvin to Celsius\n",
    "lst_africa_c = lst_clip - 273.15\n",
    "lst_africa_c"
   ]
  },
  {
   "attachments": {},
   "cell_type": "markdown",
   "metadata": {},
   "source": [
    "We'll visualize only 1 time step here - but it would be great to visualize the whole time series:\n",
    "* we could visualize instead as a line graph\n",
    "* or as visualization that loops over the entire time period \n",
    "\n",
    "But more importantly, we're going to have to aggregate these daily values to monthly. "
   ]
  },
  {
   "cell_type": "code",
   "execution_count": null,
   "metadata": {},
   "outputs": [],
   "source": [
    "lst_clip.dims\n",
    "lst_clip.coords"
   ]
  },
  {
   "cell_type": "code",
   "execution_count": null,
   "metadata": {},
   "outputs": [],
   "source": [
    "# selecting single time point (first time-step)\n",
    "lst_2d = lst_clip.squeeze()\n",
    "lst_2d"
   ]
  },
  {
   "cell_type": "code",
   "execution_count": null,
   "metadata": {},
   "outputs": [],
   "source": [
    "import matplotlib.pyplot as plt"
   ]
  },
  {
   "cell_type": "code",
   "execution_count": null,
   "metadata": {},
   "outputs": [],
   "source": [
    "plt.contourf(lst_2d, 20, cmap=plt.get_cmap(\"coolwarm\"))\n",
    "plt.colorbar()\n",
    "plt.show()"
   ]
  },
  {
   "cell_type": "code",
   "execution_count": null,
   "metadata": {},
   "outputs": [],
   "source": [
    "admin2_gdf = gpd.read_file(\n",
    "    \"https://geoportal.icpac.net/geoserver/ows?service=WFS&version=1.0.0&request=GetFeature&typename=geonode%3Aafr_g2014_2013_2&outputFormat=json&srs=EPSG%3A4326&srsName=EPSG%3A4326\"\n",
    ")\n",
    "admin2_gdf\n",
    "print(admin2_gdf.crs)"
   ]
  },
  {
   "cell_type": "code",
   "execution_count": null,
   "metadata": {},
   "outputs": [],
   "source": [
    "admin2_gdf.boundary.plot()"
   ]
  },
  {
   "cell_type": "code",
   "execution_count": null,
   "metadata": {},
   "outputs": [],
   "source": [
    "import pandas as pd\n",
    "from rasterstats import zonal_stats"
   ]
  },
  {
   "cell_type": "code",
   "execution_count": null,
   "metadata": {},
   "outputs": [],
   "source": [
    "lst_2d.values"
   ]
  },
  {
   "cell_type": "code",
   "execution_count": null,
   "metadata": {},
   "outputs": [],
   "source": [
    "# good affine\n",
    "affine = lst_2d.rio.transform()\n",
    "gdal = list(affine.to_gdal())\n",
    "gdal[-1] = -gdal[-1]\n",
    "affine = affine.from_gdal(*gdal)\n",
    "affine"
   ]
  },
  {
   "cell_type": "code",
   "execution_count": null,
   "metadata": {},
   "outputs": [],
   "source": [
    "admin2_lst = rs.zonal_stats(\n",
    "    admin2_gdf,\n",
    "    lst_2d.values,\n",
    "    affine=affine,  # using corrected affine above\n",
    "    stats=\"mean\",\n",
    "    nodata=-999,  # eliminate \"nodata\" warnings\n",
    ")\n",
    "admin2_lst"
   ]
  },
  {
   "cell_type": "code",
   "execution_count": null,
   "metadata": {},
   "outputs": [],
   "source": [
    "# Plot raster and shapefile\n",
    "fig, ax = plt.subplots(figsize=(10, 10))\n",
    "\n",
    "# plot raster LST\n",
    "plt.contourf(lst_2d, 20, cmap=plt.get_cmap(\"coolwarm\"))\n",
    "plt.colorbar()\n",
    "plt.title(\"LST in African Districts\")\n",
    "\n",
    "# plot boundaries\n",
    "admin2_gdf.plot(edgecolor=\"black\", lw=0.7)\n",
    "\n",
    "plt.show()\n",
    "plt.tight_layout()"
   ]
  },
  {
   "cell_type": "code",
   "execution_count": null,
   "metadata": {},
   "outputs": [],
   "source": []
  }
 ],
 "metadata": {
  "kernelspec": {
   "display_name": "Python 3 (ipykernel)",
   "language": "python",
   "name": "python3"
  }
 },
 "nbformat": 4,
 "nbformat_minor": 2
}
