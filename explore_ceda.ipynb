{
 "cells": [
  {
   "cell_type": "code",
   "execution_count": null,
   "metadata": {},
   "outputs": [],
   "source": [
    "import geopandas as gpd\n",
    "import numpy as np\n",
    "import pandas as pd\n",
    "\n",
    "import rasterio as rio\n",
    "import rioxarray\n",
    "import rasterstats as rs\n",
    "from rasterstats import zonal_stats\n",
    "import xarray as xr\n",
    "\n",
    "import shapely\n",
    "import warnings\n",
    "from shapely.errors import ShapelyDeprecationWarning\n",
    "\n",
    "warnings.filterwarnings(\"ignore\", category=ShapelyDeprecationWarning)"
   ]
  },
  {
   "attachments": {},
   "cell_type": "markdown",
   "metadata": {},
   "source": [
    "### Exploring Land Surface Temperature"
   ]
  },
  {
   "attachments": {},
   "cell_type": "markdown",
   "metadata": {},
   "source": [
    "ESA Land Surface Temperature Climate Change Initiative (LST_cci): Monthly Multisensor Infra-Red (IR) Low Earth Orbit (LEO) land surface temperature (LST) time series level 3 supercollated (L3S) global product (1995-2020), version 2.00. More information from the CEDA Archive can be found [here](https://catalogue.ceda.ac.uk/uuid/785ef9d3965442669bff899540747e28)."
   ]
  },
  {
   "attachments": {},
   "cell_type": "markdown",
   "metadata": {},
   "source": [
    "Now let's explore Land Surface Temperature, but this time let's try to access directly from the URL"
   ]
  },
  {
   "cell_type": "code",
   "execution_count": null,
   "metadata": {},
   "outputs": [],
   "source": [
    "# must add `#mode=bytes` to the end (see: https://github.com/Unidata/netcdf4-python/issues/1043)\n",
    "# url = \"https://dap.ceda.ac.uk/neodc/esacci/land_surface_temperature/data/MULTISENSOR_IRCDR/L3S/0.01/v2.00/monthly/2020/12/ESACCI-LST-L3S-LST-IRCDR_-0.01deg_1MONTHLY_DAY-20201201000000-fv2.00.nc#mode=bytes\"\n",
    "url = \"https://dap.ceda.ac.uk/neodc/esacci/land_surface_temperature/data/MULTISENSOR_IRCDR/L3S/0.01/v2.00/monthly/2020/11/ESACCI-LST-L3S-LST-IRCDR_-0.01deg_1MONTHLY_DAY-20201101000000-fv2.00.nc#mode=bytes\"\n",
    "# can check status of CEDA core archives here: https://stats.uptimerobot.com/vZPgQt7YnO, currently `dap` is down"
   ]
  },
  {
   "cell_type": "code",
   "execution_count": null,
   "metadata": {},
   "outputs": [],
   "source": [
    "ds_disk = xr.open_dataset(url, mask_and_scale=True)\n",
    "ds_disk"
   ]
  },
  {
   "attachments": {},
   "cell_type": "markdown",
   "metadata": {},
   "source": [
    "Before we do any processing of the data, we will want to clip the global dataset down to our AOI (continent of Africa) to reduce the size and processing time. To do this, we'll import the national administrative boundaries (admin 0) for Africa in order to create a bounding box for the continent."
   ]
  },
  {
   "cell_type": "code",
   "execution_count": null,
   "metadata": {},
   "outputs": [],
   "source": [
    "## Hardcoded bounding box from admin0 boundaries instead and save time reading in file\n",
    "\n",
    "# import geopandas as gpd\n",
    "\n",
    "# admin0_gdf = gpd.read_file(\n",
    "#     \"https://geoportal.icpac.net/geoserver/ows?service=WFS&version=1.0.0&request=GetFeature&typename=geonode%3Aafr_g2014_2013_0&outputFormat=json&srs=EPSG%3A4326&srsName=EPSG%3A4326\"\n",
    "# )\n",
    "# # admin0_gdf\n",
    "\n",
    "# print(admin0_gdf.crs)"
   ]
  },
  {
   "cell_type": "code",
   "execution_count": null,
   "metadata": {},
   "outputs": [],
   "source": [
    "# xmin, ymin, xmax, ymax = admin0_gdf.geometry.total_bounds\n",
    "# print(xmin, ymin, xmax, ymax)"
   ]
  },
  {
   "cell_type": "code",
   "execution_count": null,
   "metadata": {},
   "outputs": [],
   "source": [
    "# sorting solves CRS issue? see: https://gis.stackexchange.com/questions/396365/using-rioxarray-to-assign-spatial-reference-epsg4326-to-netcdf-built-from-csv\n",
    "ds_sort = ds_disk.sortby([\"time\", \"lat\", \"lon\"])"
   ]
  },
  {
   "cell_type": "code",
   "execution_count": null,
   "metadata": {},
   "outputs": [],
   "source": [
    "# Assign crs to match boundaries\n",
    "ds_sort.rio.write_crs(\"epsg:4326\", inplace=True)"
   ]
  },
  {
   "cell_type": "code",
   "execution_count": null,
   "metadata": {},
   "outputs": [],
   "source": [
    "# Subset to bounding box of African continent\n",
    "lst_clip = ds_sort[\"lst\"].rio.clip_box(\n",
    "    minx=-25.35874748,\n",
    "    miny=-46.9813795,\n",
    "    maxx=63.5026492,\n",
    "    maxy=37.560954,\n",
    "    crs=\"EPSG:4326\",\n",
    ")"
   ]
  },
  {
   "cell_type": "code",
   "execution_count": null,
   "metadata": {},
   "outputs": [],
   "source": [
    "lst_clip.dims\n",
    "lst_clip.coords"
   ]
  },
  {
   "cell_type": "code",
   "execution_count": null,
   "metadata": {},
   "outputs": [],
   "source": [
    "# Convert from Kelvin to Celsius\n",
    "lst_africa_c = lst_clip - 273.15\n",
    "lst_africa_c"
   ]
  },
  {
   "cell_type": "code",
   "execution_count": null,
   "metadata": {},
   "outputs": [],
   "source": [
    "lst_africa_c.plot()"
   ]
  },
  {
   "attachments": {},
   "cell_type": "markdown",
   "metadata": {},
   "source": [
    "### Admin 2 (District) boundary files\n",
    "We'll access those from ICPAC, in the future - these will be replaced with the shapefile from the John Hopkins repo. "
   ]
  },
  {
   "cell_type": "code",
   "execution_count": null,
   "metadata": {},
   "outputs": [],
   "source": [
    "admin2_gdf = gpd.read_file(\n",
    "    \"https://geoportal.icpac.net/geoserver/ows?service=WFS&version=1.0.0&request=GetFeature&typename=geonode%3Aafr_g2014_2013_2&outputFormat=json&srs=EPSG%3A4326&srsName=EPSG%3A4326\"\n",
    ")\n",
    "admin2_gdf"
   ]
  },
  {
   "cell_type": "code",
   "execution_count": null,
   "metadata": {},
   "outputs": [],
   "source": [
    "admin2_gdf.crs"
   ]
  },
  {
   "cell_type": "code",
   "execution_count": null,
   "metadata": {},
   "outputs": [],
   "source": [
    "admin2_gdf.boundary.plot(alpha=0.2, color=\"black\")"
   ]
  },
  {
   "attachments": {},
   "cell_type": "markdown",
   "metadata": {},
   "source": [
    "### Running Zonal Statistics"
   ]
  },
  {
   "attachments": {},
   "cell_type": "markdown",
   "metadata": {},
   "source": [
    "Now let's plot the two layers on top of each other to make sure that they overlap. We'll also look at the extent of missing data on the map. "
   ]
  },
  {
   "cell_type": "code",
   "execution_count": null,
   "metadata": {},
   "outputs": [],
   "source": [
    "ax = admin2_gdf.boundary.plot(alpha=0.2, color=\"black\")\n",
    "lst_africa_c.plot(ax=ax, zorder=-1)"
   ]
  },
  {
   "cell_type": "code",
   "execution_count": null,
   "metadata": {},
   "outputs": [],
   "source": [
    "# correcting the affine, so they are not negative (previous error without this resulted in 'no negative dimensions allowed'admin2_gdf)\n",
    "affine = lst_africa_c.rio.transform()\n",
    "gdal = list(affine.to_gdal())\n",
    "gdal[-1] = -gdal[-1]\n",
    "affine = affine.from_gdal(*gdal)\n",
    "affine"
   ]
  },
  {
   "cell_type": "code",
   "execution_count": null,
   "metadata": {},
   "outputs": [],
   "source": [
    "admin2_lst = rs.zonal_stats(\n",
    "    admin2_gdf[\"geometry\"],\n",
    "    lst_africa_c.squeeze().values,\n",
    "    affine=affine,  # using corrected affine above\n",
    "    stats=\"mean\",\n",
    "    nodata=-999,  # eliminate \"nodata\" warnings\n",
    "    geojson_output=True,\n",
    "    copy_properties=True,\n",
    ")\n",
    "admin2_lst"
   ]
  },
  {
   "attachments": {},
   "cell_type": "markdown",
   "metadata": {},
   "source": [
    "### Trouble-shooting: \n",
    "\n",
    "* Issue with `mean`: `None` is likely due to a multigeometry problem, where a solution is not yet implemented in `rasterstats`. See this PR [here](https://github.com/perrygeo/python-rasterstats/pull/255).  Will need to test with single polygon.\n",
    "* Or does the affine transformation introduce some offset that means the crs are not the same? "
   ]
  },
  {
   "attachments": {},
   "cell_type": "markdown",
   "metadata": {},
   "source": [
    "### Trying with Admin 0 (National) Boundaries"
   ]
  },
  {
   "cell_type": "code",
   "execution_count": null,
   "metadata": {},
   "outputs": [],
   "source": [
    "import geopandas as gpd\n",
    "\n",
    "admin0_gdf = gpd.read_file(\n",
    "    \"https://geoportal.icpac.net/geoserver/ows?service=WFS&version=1.0.0&request=GetFeature&typename=geonode%3Aafr_g2014_2013_0&outputFormat=json&srs=EPSG%3A4326&srsName=EPSG%3A4326\"\n",
    ")\n",
    "# admin0_gdf"
   ]
  },
  {
   "cell_type": "code",
   "execution_count": null,
   "metadata": {},
   "outputs": [],
   "source": [
    "print(admin0_gdf.crs)"
   ]
  },
  {
   "attachments": {},
   "cell_type": "markdown",
   "metadata": {},
   "source": [
    "Plotting both the national boundaries and LST against each other. "
   ]
  },
  {
   "cell_type": "code",
   "execution_count": null,
   "metadata": {},
   "outputs": [],
   "source": [
    "ax = admin0_gdf.boundary.plot(alpha=0.2, color=\"black\")\n",
    "lst_africa_c.mean(dim=\"time\").plot(ax=ax, zorder=-1)"
   ]
  },
  {
   "cell_type": "code",
   "execution_count": null,
   "metadata": {},
   "outputs": [],
   "source": [
    "admin0_lst = rs.zonal_stats(\n",
    "    admin0_gdf[\"geometry\"],\n",
    "    lst_africa_c.squeeze().values,\n",
    "    affine=affine,  # using corrected affine above\n",
    "    stats=\"mean\",\n",
    "    nodata=-999,  # eliminate \"nodata\" warnings\n",
    "    geojson_output=True,\n",
    "    copy_properties=True,\n",
    ")\n",
    "admin0_lst"
   ]
  }
 ],
 "metadata": {
  "kernelspec": {
   "display_name": "Python 3 (ipykernel)",
   "language": "python",
   "name": "python3"
  }
 },
 "nbformat": 4,
 "nbformat_minor": 2
}
